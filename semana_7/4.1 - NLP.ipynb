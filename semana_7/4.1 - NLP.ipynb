{
 "cells": [
  {
   "cell_type": "markdown",
   "metadata": {},
   "source": [
    "# 4.1- NLP"
   ]
  },
  {
   "cell_type": "markdown",
   "metadata": {},
   "source": [
    "NLP trata de aplicaciones que entiendan nuestro idioma, reconocimiento de voz, traducción, comprensión semántica, análisis de sentimiento.."
   ]
  },
  {
   "cell_type": "markdown",
   "metadata": {},
   "source": [
    "**Usos**\n",
    "\n",
    "+ Motores de búsqueda\n",
    "+ Feed de redes sociales\n",
    "+ Asistentes de voz \n",
    "+ Filtros de span\n",
    "+ Chatbots"
   ]
  },
  {
   "cell_type": "markdown",
   "metadata": {},
   "source": [
    "**Librerías**\n",
    "\n",
    "+ NLTK\n",
    "+ Spacy\n",
    "+ TFIDF\n",
    "+ OpenNLP"
   ]
  },
  {
   "cell_type": "markdown",
   "metadata": {},
   "source": [
    "La dificultad del NLP está en varios niveles:\n",
    "\n",
    "+ Ambigüedad:\n",
    "\n",
    "  * Nivel léxico: por ejemplo, varios significados\n",
    "  * Nivel referencial: anáforas, metáforas, etc...\n",
    "  * Nivel estructural: la semántica es necesaria para entender la estructura de una oración\n",
    "  * Nivel pragmático: dobles sentidos, ironía, humor\n",
    "  \n",
    "+ Detección de espacios\n",
    "+ Recepción imperfecta: acentos, -ismos, OCR"
   ]
  },
  {
   "cell_type": "markdown",
   "metadata": {},
   "source": [
    "El proceso es similar que en USL, primero se vectorizan las palabras y después se miden sus distancias/similitudes. "
   ]
  },
  {
   "cell_type": "code",
   "execution_count": 4,
   "metadata": {},
   "outputs": [
    {
     "data": {
      "text/plain": [
       "['The Godfather',\n",
       " 'The Shawshank Redemption',\n",
       " \"Schindler's List\",\n",
       " 'Raging Bull',\n",
       " 'Casablanca',\n",
       " \"One Flew Over the Cuckoo's Nest\",\n",
       " 'Gone with the Wind',\n",
       " 'Citizen Kane',\n",
       " 'The Wizard of Oz',\n",
       " 'Titanic']"
      ]
     },
     "execution_count": 4,
     "metadata": {},
     "output_type": "execute_result"
    }
   ],
   "source": [
    "# lista de 100 peliculas\n",
    "\n",
    "titles=open('data/title_list.txt').read().split('\\n')[:100]\n",
    "\n",
    "titles[:10]"
   ]
  },
  {
   "cell_type": "code",
   "execution_count": 10,
   "metadata": {},
   "outputs": [
    {
     "data": {
      "text/plain": [
       "\" Plot  [edit]  [  [  edit  edit  ]  ]  \\n  On the day of his only daughter's wedding, Vito Corleone h\""
      ]
     },
     "execution_count": 10,
     "metadata": {},
     "output_type": "execute_result"
    }
   ],
   "source": [
    "synopsis=open('data/synopses_list.txt').read().split('\\n BREAKS HERE')[:100]\n",
    "\n",
    "synopsis[0][:100]"
   ]
  },
  {
   "cell_type": "markdown",
   "metadata": {},
   "source": [
    "### Limpieza"
   ]
  },
  {
   "cell_type": "code",
   "execution_count": 11,
   "metadata": {},
   "outputs": [],
   "source": [
    "#!pip install spacy"
   ]
  },
  {
   "cell_type": "code",
   "execution_count": 12,
   "metadata": {},
   "outputs": [],
   "source": [
    "import string\n",
    "\n",
    "import spacy\n",
    "\n",
    "from spacy.lang.en.stop_words import STOP_WORDS\n",
    "from spacy.lang.en import English\n",
    "\n",
    "import re"
   ]
  },
  {
   "cell_type": "code",
   "execution_count": null,
   "metadata": {},
   "outputs": [],
   "source": [
    "#!python -m spacy download en"
   ]
  },
  {
   "cell_type": "code",
   "execution_count": 13,
   "metadata": {},
   "outputs": [],
   "source": [
    "nlp=spacy.load('en')\n",
    "\n",
    "parser=English()"
   ]
  },
  {
   "cell_type": "code",
   "execution_count": 23,
   "metadata": {},
   "outputs": [],
   "source": [
    "def spacy_tokenizer(frase):\n",
    "    \n",
    "    tokens=parser(frase)\n",
    "    #print(help(tokens))   # lo tratamos como string pero es un objeto de spacy\n",
    "    \n",
    "    clean_tokens=[]\n",
    "    \n",
    "    for e in tokens:\n",
    "        \n",
    "        lema=e.lemma_.lower().strip()\n",
    "        \n",
    "        if lema not in STOP_WORDS and re.search('^[a-zA-Z]+$', lema):\n",
    "            \n",
    "            clean_tokens.append(lema)\n",
    "            \n",
    "    return clean_tokens"
   ]
  },
  {
   "cell_type": "code",
   "execution_count": 25,
   "metadata": {},
   "outputs": [
    {
     "data": {
      "text/plain": [
       "['plot',\n",
       " 'edit',\n",
       " 'edit',\n",
       " 'edit',\n",
       " 'day',\n",
       " 'daughter',\n",
       " 'wedding',\n",
       " 'vito',\n",
       " 'corleone',\n",
       " 'hears',\n",
       " 'requests',\n",
       " 'role',\n",
       " 'godfather',\n",
       " 'don',\n",
       " 'new',\n",
       " 'york',\n",
       " 'crime',\n",
       " 'family',\n",
       " 'vito',\n",
       " 'youngest',\n",
       " 'son']"
      ]
     },
     "execution_count": 25,
     "metadata": {},
     "output_type": "execute_result"
    }
   ],
   "source": [
    "spacy_tokenizer(synopsis[0][:200])"
   ]
  },
  {
   "cell_type": "markdown",
   "metadata": {},
   "source": [
    "### TFIDF (term frequency inverse document frequency)"
   ]
  },
  {
   "cell_type": "code",
   "execution_count": 27,
   "metadata": {},
   "outputs": [
    {
     "data": {
      "text/plain": [
       "str"
      ]
     },
     "execution_count": 27,
     "metadata": {},
     "output_type": "execute_result"
    }
   ],
   "source": [
    "type(synopsis[0])"
   ]
  },
  {
   "cell_type": "code",
   "execution_count": 28,
   "metadata": {},
   "outputs": [],
   "source": [
    "from sklearn.feature_extraction.text import TfidfVectorizer"
   ]
  },
  {
   "cell_type": "code",
   "execution_count": 29,
   "metadata": {},
   "outputs": [],
   "source": [
    "tfidf=TfidfVectorizer(min_df=0.15, tokenizer=spacy_tokenizer)"
   ]
  },
  {
   "cell_type": "code",
   "execution_count": 30,
   "metadata": {},
   "outputs": [],
   "source": [
    "tfidf_matrix=tfidf.fit_transform(synopsis)"
   ]
  },
  {
   "cell_type": "code",
   "execution_count": 33,
   "metadata": {},
   "outputs": [
    {
     "data": {
      "text/plain": [
       "((100, 254), 100)"
      ]
     },
     "execution_count": 33,
     "metadata": {},
     "output_type": "execute_result"
    }
   ],
   "source": [
    "tfidf_matrix.shape, len(synopsis)"
   ]
  },
  {
   "cell_type": "code",
   "execution_count": 57,
   "metadata": {},
   "outputs": [
    {
     "data": {
      "text/plain": [
       "['  (0, 110)\\t0.0795498967156828',\n",
       " '  (0, 98)\\t0.08264708598686148',\n",
       " '  (0, 111)\\t0.0695613301538079',\n",
       " '  (0, 36)\\t0.08796517530628192',\n",
       " '  (0, 216)\\t0.07415434536439715',\n",
       " '  (0, 225)\\t0.08608908178427178',\n",
       " '  (0, 195)\\t0.07673467810212535',\n",
       " '  (0, 141)\\t0.17217816356854357',\n",
       " '  (0, 170)\\t0.08432025376158821',\n",
       " '  (0, 47)\\t0.07811028526143413',\n",
       " '  (0, 193)\\t0.0665149972056148',\n",
       " '  (0, 1)\\t0.06463890368360466',\n",
       " '  (0, 137)\\t0.04655051554995016',\n",
       " '  (0, 103)\\t0.08432025376158821',\n",
       " '  (0, 251)\\t0.06287007566092108',\n",
       " '  (0, 30)\\t0.08608908178427178',\n",
       " '  (0, 250)\\t0.07811028526143413',\n",
       " '  (0, 181)\\t0.05461896756448502',\n",
       " '  (0, 151)\\t0.24317928100601863',\n",
       " '  (0, 161)\\t0.1412945368753922',\n",
       " '  (0, 54)\\t0.20249248351645205',\n",
       " '  (0, 43)\\t0.06119690788619435',\n",
       " '  (0, 41)\\t0.11474308459843525',\n",
       " '  (0, 123)\\t0.056660107160767005',\n",
       " '  (0, 29)\\t0.07415434536439715',\n",
       " '  :\\t:',\n",
       " '  (0, 140)\\t0.0637418534667537',\n",
       " '  (0, 167)\\t0.08432025376158821',\n",
       " '  (0, 35)\\t0.07294061860337442',\n",
       " '  (0, 109)\\t0.10923793512897004',\n",
       " '  (0, 91)\\t0.11769088605261271',\n",
       " '  (0, 28)\\t0.08608908178427178',\n",
       " '  (0, 173)\\t0.0665149972056148',\n",
       " '  (0, 65)\\t0.23843832893868966',\n",
       " '  (0, 191)\\t0.07415434536439715',\n",
       " '  (0, 217)\\t0.188248129647968',\n",
       " '  (0, 143)\\t0.06287007566092108',\n",
       " '  (0, 10)\\t0.15622057052286825',\n",
       " '  (0, 8)\\t0.05396744738293439',\n",
       " '  (0, 15)\\t0.08432025376158821',\n",
       " '  (0, 148)\\t0.06851221051265911',\n",
       " '  (0, 92)\\t0.14588123720674884',\n",
       " '  (0, 93)\\t0.06119690788619435',\n",
       " '  (0, 203)\\t0.4306362236334468',\n",
       " '  (0, 64)\\t0.3933764126325222',\n",
       " '  (0, 252)\\t0.1590997934313656',\n",
       " '  (0, 153)\\t0.14759127101108693',\n",
       " '  (0, 37)\\t0.07673467810212535',\n",
       " '  (0, 38)\\t0.10923793512897004',\n",
       " '  (0, 53)\\t0.04781877520266471',\n",
       " '  (0, 171)\\t0.01578250375770308']"
      ]
     },
     "execution_count": 57,
     "metadata": {},
     "output_type": "execute_result"
    }
   ],
   "source": [
    "(str(tfidf_matrix[0]).split('\\n'))"
   ]
  },
  {
   "cell_type": "code",
   "execution_count": 42,
   "metadata": {},
   "outputs": [],
   "source": [
    "import pandas as pd\n",
    "\n",
    "df=pd.DataFrame(tfidf_matrix)"
   ]
  },
  {
   "cell_type": "code",
   "execution_count": 43,
   "metadata": {},
   "outputs": [
    {
     "data": {
      "text/html": [
       "<div>\n",
       "<style scoped>\n",
       "    .dataframe tbody tr th:only-of-type {\n",
       "        vertical-align: middle;\n",
       "    }\n",
       "\n",
       "    .dataframe tbody tr th {\n",
       "        vertical-align: top;\n",
       "    }\n",
       "\n",
       "    .dataframe thead th {\n",
       "        text-align: right;\n",
       "    }\n",
       "</style>\n",
       "<table border=\"1\" class=\"dataframe\">\n",
       "  <thead>\n",
       "    <tr style=\"text-align: right;\">\n",
       "      <th></th>\n",
       "      <th>0</th>\n",
       "    </tr>\n",
       "  </thead>\n",
       "  <tbody>\n",
       "    <tr>\n",
       "      <th>0</th>\n",
       "      <td>(0, 110)\\t0.0795498967156828\\n  (0, 98)\\t0.0...</td>\n",
       "    </tr>\n",
       "    <tr>\n",
       "      <th>1</th>\n",
       "      <td>(0, 34)\\t0.07983654988983906\\n  (0, 71)\\t0.1...</td>\n",
       "    </tr>\n",
       "    <tr>\n",
       "      <th>2</th>\n",
       "      <td>(0, 188)\\t0.08130989727604856\\n  (0, 68)\\t0....</td>\n",
       "    </tr>\n",
       "    <tr>\n",
       "      <th>3</th>\n",
       "      <td>(0, 133)\\t0.07493861532072099\\n  (0, 55)\\t0....</td>\n",
       "    </tr>\n",
       "    <tr>\n",
       "      <th>4</th>\n",
       "      <td>(0, 213)\\t0.08554981380443288\\n  (0, 52)\\t0....</td>\n",
       "    </tr>\n",
       "  </tbody>\n",
       "</table>\n",
       "</div>"
      ],
      "text/plain": [
       "                                                   0\n",
       "0    (0, 110)\\t0.0795498967156828\\n  (0, 98)\\t0.0...\n",
       "1    (0, 34)\\t0.07983654988983906\\n  (0, 71)\\t0.1...\n",
       "2    (0, 188)\\t0.08130989727604856\\n  (0, 68)\\t0....\n",
       "3    (0, 133)\\t0.07493861532072099\\n  (0, 55)\\t0....\n",
       "4    (0, 213)\\t0.08554981380443288\\n  (0, 52)\\t0...."
      ]
     },
     "execution_count": 43,
     "metadata": {},
     "output_type": "execute_result"
    }
   ],
   "source": [
    "df.head()"
   ]
  },
  {
   "cell_type": "code",
   "execution_count": 41,
   "metadata": {},
   "outputs": [
    {
     "data": {
      "text/plain": [
       "['able',\n",
       " 'agrees',\n",
       " 'air',\n",
       " 'american',\n",
       " 'apartment',\n",
       " 'army',\n",
       " 'arrive',\n",
       " 'arrives',\n",
       " 'asks',\n",
       " 'attack',\n",
       " 'attempt',\n",
       " 'attempts',\n",
       " 'attention',\n",
       " 'away',\n",
       " 'battle']"
      ]
     },
     "execution_count": 41,
     "metadata": {},
     "output_type": "execute_result"
    }
   ],
   "source": [
    "terms=tfidf.get_feature_names()\n",
    "\n",
    "terms[:15]"
   ]
  },
  {
   "cell_type": "code",
   "execution_count": 58,
   "metadata": {},
   "outputs": [
    {
     "data": {
      "text/plain": [
       "<100x254 sparse matrix of type '<class 'numpy.float64'>'\n",
       "\twith 6489 stored elements in Compressed Sparse Row format>"
      ]
     },
     "execution_count": 58,
     "metadata": {},
     "output_type": "execute_result"
    }
   ],
   "source": [
    "# os dejo la kata\n",
    "\n",
    "tfidf_matrix"
   ]
  },
  {
   "cell_type": "markdown",
   "metadata": {},
   "source": [
    "### Distancias"
   ]
  },
  {
   "cell_type": "code",
   "execution_count": 59,
   "metadata": {},
   "outputs": [],
   "source": [
    "from sklearn.metrics.pairwise import cosine_similarity as cos"
   ]
  },
  {
   "cell_type": "code",
   "execution_count": 60,
   "metadata": {},
   "outputs": [
    {
     "data": {
      "text/plain": [
       "(100, 100)"
      ]
     },
     "execution_count": 60,
     "metadata": {},
     "output_type": "execute_result"
    }
   ],
   "source": [
    "distancias=1-cos(tfidf_matrix)\n",
    "\n",
    "distancias.shape"
   ]
  },
  {
   "cell_type": "code",
   "execution_count": 63,
   "metadata": {},
   "outputs": [
    {
     "data": {
      "text/html": [
       "<div>\n",
       "<style scoped>\n",
       "    .dataframe tbody tr th:only-of-type {\n",
       "        vertical-align: middle;\n",
       "    }\n",
       "\n",
       "    .dataframe tbody tr th {\n",
       "        vertical-align: top;\n",
       "    }\n",
       "\n",
       "    .dataframe thead th {\n",
       "        text-align: right;\n",
       "    }\n",
       "</style>\n",
       "<table border=\"1\" class=\"dataframe\">\n",
       "  <thead>\n",
       "    <tr style=\"text-align: right;\">\n",
       "      <th></th>\n",
       "      <th>0</th>\n",
       "      <th>1</th>\n",
       "      <th>2</th>\n",
       "      <th>3</th>\n",
       "      <th>4</th>\n",
       "      <th>5</th>\n",
       "      <th>6</th>\n",
       "      <th>7</th>\n",
       "      <th>8</th>\n",
       "      <th>9</th>\n",
       "      <th>...</th>\n",
       "      <th>90</th>\n",
       "      <th>91</th>\n",
       "      <th>92</th>\n",
       "      <th>93</th>\n",
       "      <th>94</th>\n",
       "      <th>95</th>\n",
       "      <th>96</th>\n",
       "      <th>97</th>\n",
       "      <th>98</th>\n",
       "      <th>99</th>\n",
       "    </tr>\n",
       "  </thead>\n",
       "  <tbody>\n",
       "    <tr>\n",
       "      <th>0</th>\n",
       "      <td>-2.220446e-16</td>\n",
       "      <td>0.871403</td>\n",
       "      <td>8.827002e-01</td>\n",
       "      <td>7.558619e-01</td>\n",
       "      <td>8.311490e-01</td>\n",
       "      <td>0.887473</td>\n",
       "      <td>0.696613</td>\n",
       "      <td>0.798515</td>\n",
       "      <td>0.792525</td>\n",
       "      <td>0.800604</td>\n",
       "      <td>...</td>\n",
       "      <td>0.791397</td>\n",
       "      <td>0.859286</td>\n",
       "      <td>0.800776</td>\n",
       "      <td>0.872153</td>\n",
       "      <td>0.745884</td>\n",
       "      <td>0.704577</td>\n",
       "      <td>0.863281</td>\n",
       "      <td>0.756453</td>\n",
       "      <td>0.881292</td>\n",
       "      <td>0.872031</td>\n",
       "    </tr>\n",
       "    <tr>\n",
       "      <th>1</th>\n",
       "      <td>8.714034e-01</td>\n",
       "      <td>0.000000</td>\n",
       "      <td>7.720319e-01</td>\n",
       "      <td>8.770177e-01</td>\n",
       "      <td>8.232513e-01</td>\n",
       "      <td>0.825881</td>\n",
       "      <td>0.824560</td>\n",
       "      <td>0.742223</td>\n",
       "      <td>0.882280</td>\n",
       "      <td>0.829316</td>\n",
       "      <td>...</td>\n",
       "      <td>0.801477</td>\n",
       "      <td>0.840941</td>\n",
       "      <td>0.843457</td>\n",
       "      <td>0.868724</td>\n",
       "      <td>0.844129</td>\n",
       "      <td>0.879514</td>\n",
       "      <td>0.908140</td>\n",
       "      <td>0.809165</td>\n",
       "      <td>0.836998</td>\n",
       "      <td>0.892112</td>\n",
       "    </tr>\n",
       "    <tr>\n",
       "      <th>2</th>\n",
       "      <td>8.827002e-01</td>\n",
       "      <td>0.772032</td>\n",
       "      <td>-2.220446e-16</td>\n",
       "      <td>8.435603e-01</td>\n",
       "      <td>7.916849e-01</td>\n",
       "      <td>0.873981</td>\n",
       "      <td>0.602106</td>\n",
       "      <td>0.778088</td>\n",
       "      <td>0.775477</td>\n",
       "      <td>0.906123</td>\n",
       "      <td>...</td>\n",
       "      <td>0.855187</td>\n",
       "      <td>0.917054</td>\n",
       "      <td>0.829631</td>\n",
       "      <td>0.882148</td>\n",
       "      <td>0.876410</td>\n",
       "      <td>0.929238</td>\n",
       "      <td>0.869463</td>\n",
       "      <td>0.809234</td>\n",
       "      <td>0.853123</td>\n",
       "      <td>0.758212</td>\n",
       "    </tr>\n",
       "    <tr>\n",
       "      <th>3</th>\n",
       "      <td>7.558619e-01</td>\n",
       "      <td>0.877018</td>\n",
       "      <td>8.435603e-01</td>\n",
       "      <td>-2.220446e-16</td>\n",
       "      <td>8.302214e-01</td>\n",
       "      <td>0.841258</td>\n",
       "      <td>0.712993</td>\n",
       "      <td>0.724218</td>\n",
       "      <td>0.840976</td>\n",
       "      <td>0.818933</td>\n",
       "      <td>...</td>\n",
       "      <td>0.826246</td>\n",
       "      <td>0.943786</td>\n",
       "      <td>0.788355</td>\n",
       "      <td>0.761454</td>\n",
       "      <td>0.721442</td>\n",
       "      <td>0.866239</td>\n",
       "      <td>0.809433</td>\n",
       "      <td>0.822180</td>\n",
       "      <td>0.867124</td>\n",
       "      <td>0.872169</td>\n",
       "    </tr>\n",
       "    <tr>\n",
       "      <th>4</th>\n",
       "      <td>8.311490e-01</td>\n",
       "      <td>0.823251</td>\n",
       "      <td>7.916849e-01</td>\n",
       "      <td>8.302214e-01</td>\n",
       "      <td>1.110223e-16</td>\n",
       "      <td>0.734452</td>\n",
       "      <td>0.697182</td>\n",
       "      <td>0.812257</td>\n",
       "      <td>0.787668</td>\n",
       "      <td>0.916966</td>\n",
       "      <td>...</td>\n",
       "      <td>0.711169</td>\n",
       "      <td>0.807732</td>\n",
       "      <td>0.787696</td>\n",
       "      <td>0.818702</td>\n",
       "      <td>0.686726</td>\n",
       "      <td>0.721795</td>\n",
       "      <td>0.766586</td>\n",
       "      <td>0.706896</td>\n",
       "      <td>0.746433</td>\n",
       "      <td>0.807960</td>\n",
       "    </tr>\n",
       "  </tbody>\n",
       "</table>\n",
       "<p>5 rows × 100 columns</p>\n",
       "</div>"
      ],
      "text/plain": [
       "             0         1             2             3             4         5   \\\n",
       "0 -2.220446e-16  0.871403  8.827002e-01  7.558619e-01  8.311490e-01  0.887473   \n",
       "1  8.714034e-01  0.000000  7.720319e-01  8.770177e-01  8.232513e-01  0.825881   \n",
       "2  8.827002e-01  0.772032 -2.220446e-16  8.435603e-01  7.916849e-01  0.873981   \n",
       "3  7.558619e-01  0.877018  8.435603e-01 -2.220446e-16  8.302214e-01  0.841258   \n",
       "4  8.311490e-01  0.823251  7.916849e-01  8.302214e-01  1.110223e-16  0.734452   \n",
       "\n",
       "         6         7         8         9   ...        90        91        92  \\\n",
       "0  0.696613  0.798515  0.792525  0.800604  ...  0.791397  0.859286  0.800776   \n",
       "1  0.824560  0.742223  0.882280  0.829316  ...  0.801477  0.840941  0.843457   \n",
       "2  0.602106  0.778088  0.775477  0.906123  ...  0.855187  0.917054  0.829631   \n",
       "3  0.712993  0.724218  0.840976  0.818933  ...  0.826246  0.943786  0.788355   \n",
       "4  0.697182  0.812257  0.787668  0.916966  ...  0.711169  0.807732  0.787696   \n",
       "\n",
       "         93        94        95        96        97        98        99  \n",
       "0  0.872153  0.745884  0.704577  0.863281  0.756453  0.881292  0.872031  \n",
       "1  0.868724  0.844129  0.879514  0.908140  0.809165  0.836998  0.892112  \n",
       "2  0.882148  0.876410  0.929238  0.869463  0.809234  0.853123  0.758212  \n",
       "3  0.761454  0.721442  0.866239  0.809433  0.822180  0.867124  0.872169  \n",
       "4  0.818702  0.686726  0.721795  0.766586  0.706896  0.746433  0.807960  \n",
       "\n",
       "[5 rows x 100 columns]"
      ]
     },
     "execution_count": 63,
     "metadata": {},
     "output_type": "execute_result"
    }
   ],
   "source": [
    "pd.DataFrame(distancias).head()"
   ]
  },
  {
   "cell_type": "markdown",
   "metadata": {},
   "source": [
    "### Clustering"
   ]
  },
  {
   "cell_type": "code",
   "execution_count": null,
   "metadata": {},
   "outputs": [],
   "source": []
  },
  {
   "cell_type": "code",
   "execution_count": null,
   "metadata": {},
   "outputs": [],
   "source": []
  },
  {
   "cell_type": "code",
   "execution_count": null,
   "metadata": {},
   "outputs": [],
   "source": []
  },
  {
   "cell_type": "code",
   "execution_count": null,
   "metadata": {},
   "outputs": [],
   "source": []
  },
  {
   "cell_type": "code",
   "execution_count": null,
   "metadata": {},
   "outputs": [],
   "source": []
  },
  {
   "cell_type": "code",
   "execution_count": null,
   "metadata": {},
   "outputs": [],
   "source": []
  },
  {
   "cell_type": "code",
   "execution_count": null,
   "metadata": {},
   "outputs": [],
   "source": []
  },
  {
   "cell_type": "code",
   "execution_count": null,
   "metadata": {},
   "outputs": [],
   "source": []
  },
  {
   "cell_type": "code",
   "execution_count": null,
   "metadata": {},
   "outputs": [],
   "source": []
  },
  {
   "cell_type": "markdown",
   "metadata": {},
   "source": [
    "### titulos de los clusters"
   ]
  },
  {
   "cell_type": "code",
   "execution_count": null,
   "metadata": {},
   "outputs": [],
   "source": []
  },
  {
   "cell_type": "code",
   "execution_count": null,
   "metadata": {},
   "outputs": [],
   "source": []
  },
  {
   "cell_type": "code",
   "execution_count": null,
   "metadata": {},
   "outputs": [],
   "source": []
  },
  {
   "cell_type": "code",
   "execution_count": null,
   "metadata": {},
   "outputs": [],
   "source": []
  },
  {
   "cell_type": "code",
   "execution_count": null,
   "metadata": {},
   "outputs": [],
   "source": []
  },
  {
   "cell_type": "code",
   "execution_count": null,
   "metadata": {},
   "outputs": [],
   "source": []
  },
  {
   "cell_type": "code",
   "execution_count": null,
   "metadata": {},
   "outputs": [],
   "source": []
  },
  {
   "cell_type": "code",
   "execution_count": null,
   "metadata": {},
   "outputs": [],
   "source": []
  },
  {
   "cell_type": "markdown",
   "metadata": {},
   "source": [
    "## NLP_es "
   ]
  },
  {
   "cell_type": "code",
   "execution_count": null,
   "metadata": {},
   "outputs": [],
   "source": []
  },
  {
   "cell_type": "code",
   "execution_count": null,
   "metadata": {},
   "outputs": [],
   "source": []
  },
  {
   "cell_type": "code",
   "execution_count": null,
   "metadata": {},
   "outputs": [],
   "source": []
  },
  {
   "cell_type": "code",
   "execution_count": null,
   "metadata": {},
   "outputs": [],
   "source": []
  },
  {
   "cell_type": "code",
   "execution_count": null,
   "metadata": {},
   "outputs": [],
   "source": []
  },
  {
   "cell_type": "code",
   "execution_count": null,
   "metadata": {},
   "outputs": [],
   "source": []
  },
  {
   "cell_type": "markdown",
   "metadata": {},
   "source": [
    "##### similitud"
   ]
  },
  {
   "cell_type": "code",
   "execution_count": null,
   "metadata": {},
   "outputs": [],
   "source": []
  },
  {
   "cell_type": "code",
   "execution_count": null,
   "metadata": {},
   "outputs": [],
   "source": []
  },
  {
   "cell_type": "code",
   "execution_count": null,
   "metadata": {},
   "outputs": [],
   "source": []
  },
  {
   "cell_type": "code",
   "execution_count": null,
   "metadata": {},
   "outputs": [],
   "source": []
  },
  {
   "cell_type": "markdown",
   "metadata": {},
   "source": [
    "# WordClouds"
   ]
  },
  {
   "cell_type": "code",
   "execution_count": null,
   "metadata": {},
   "outputs": [],
   "source": []
  },
  {
   "cell_type": "code",
   "execution_count": null,
   "metadata": {},
   "outputs": [],
   "source": []
  },
  {
   "cell_type": "code",
   "execution_count": null,
   "metadata": {},
   "outputs": [],
   "source": []
  },
  {
   "cell_type": "code",
   "execution_count": null,
   "metadata": {},
   "outputs": [],
   "source": []
  },
  {
   "cell_type": "code",
   "execution_count": null,
   "metadata": {},
   "outputs": [],
   "source": []
  },
  {
   "cell_type": "code",
   "execution_count": null,
   "metadata": {},
   "outputs": [],
   "source": []
  },
  {
   "cell_type": "code",
   "execution_count": null,
   "metadata": {},
   "outputs": [],
   "source": []
  },
  {
   "cell_type": "code",
   "execution_count": null,
   "metadata": {},
   "outputs": [],
   "source": []
  },
  {
   "cell_type": "markdown",
   "metadata": {},
   "source": [
    "#### Mascara"
   ]
  },
  {
   "cell_type": "code",
   "execution_count": null,
   "metadata": {},
   "outputs": [],
   "source": []
  },
  {
   "cell_type": "code",
   "execution_count": null,
   "metadata": {},
   "outputs": [],
   "source": []
  },
  {
   "cell_type": "code",
   "execution_count": null,
   "metadata": {},
   "outputs": [],
   "source": []
  },
  {
   "cell_type": "code",
   "execution_count": null,
   "metadata": {},
   "outputs": [],
   "source": []
  },
  {
   "cell_type": "markdown",
   "metadata": {},
   "source": [
    "### ejemplo con todo"
   ]
  },
  {
   "cell_type": "code",
   "execution_count": null,
   "metadata": {},
   "outputs": [],
   "source": []
  },
  {
   "cell_type": "code",
   "execution_count": null,
   "metadata": {},
   "outputs": [],
   "source": []
  },
  {
   "cell_type": "code",
   "execution_count": null,
   "metadata": {},
   "outputs": [],
   "source": []
  },
  {
   "cell_type": "code",
   "execution_count": null,
   "metadata": {},
   "outputs": [],
   "source": []
  },
  {
   "cell_type": "code",
   "execution_count": null,
   "metadata": {},
   "outputs": [],
   "source": []
  },
  {
   "cell_type": "code",
   "execution_count": null,
   "metadata": {},
   "outputs": [],
   "source": []
  },
  {
   "cell_type": "markdown",
   "metadata": {},
   "source": [
    "## NER"
   ]
  },
  {
   "cell_type": "code",
   "execution_count": null,
   "metadata": {},
   "outputs": [],
   "source": []
  },
  {
   "cell_type": "code",
   "execution_count": null,
   "metadata": {},
   "outputs": [],
   "source": []
  },
  {
   "cell_type": "code",
   "execution_count": null,
   "metadata": {},
   "outputs": [],
   "source": []
  },
  {
   "cell_type": "code",
   "execution_count": null,
   "metadata": {},
   "outputs": [],
   "source": []
  },
  {
   "cell_type": "code",
   "execution_count": null,
   "metadata": {},
   "outputs": [],
   "source": []
  },
  {
   "cell_type": "code",
   "execution_count": null,
   "metadata": {},
   "outputs": [],
   "source": []
  },
  {
   "cell_type": "code",
   "execution_count": null,
   "metadata": {},
   "outputs": [],
   "source": []
  },
  {
   "cell_type": "code",
   "execution_count": null,
   "metadata": {},
   "outputs": [],
   "source": []
  },
  {
   "cell_type": "code",
   "execution_count": null,
   "metadata": {},
   "outputs": [],
   "source": []
  },
  {
   "cell_type": "markdown",
   "metadata": {},
   "source": [
    "### Transformers (creacion de texto)"
   ]
  },
  {
   "cell_type": "code",
   "execution_count": null,
   "metadata": {},
   "outputs": [],
   "source": []
  },
  {
   "cell_type": "code",
   "execution_count": null,
   "metadata": {},
   "outputs": [],
   "source": []
  },
  {
   "cell_type": "code",
   "execution_count": null,
   "metadata": {},
   "outputs": [],
   "source": []
  },
  {
   "cell_type": "code",
   "execution_count": null,
   "metadata": {},
   "outputs": [],
   "source": []
  },
  {
   "cell_type": "code",
   "execution_count": null,
   "metadata": {},
   "outputs": [],
   "source": []
  },
  {
   "cell_type": "code",
   "execution_count": null,
   "metadata": {},
   "outputs": [],
   "source": []
  },
  {
   "cell_type": "code",
   "execution_count": null,
   "metadata": {},
   "outputs": [],
   "source": []
  },
  {
   "cell_type": "code",
   "execution_count": null,
   "metadata": {},
   "outputs": [],
   "source": []
  }
 ],
 "metadata": {
  "finalized": {
   "timestamp": 1645479451269,
   "trusted": true
  },
  "kernelspec": {
   "display_name": "clase",
   "language": "python",
   "name": "clase"
  },
  "language_info": {
   "codemirror_mode": {
    "name": "ipython",
    "version": 3
   },
   "file_extension": ".py",
   "mimetype": "text/x-python",
   "name": "python",
   "nbconvert_exporter": "python",
   "pygments_lexer": "ipython3",
   "version": "3.8.8"
  },
  "varInspector": {
   "cols": {
    "lenName": 16,
    "lenType": 16,
    "lenVar": 40
   },
   "kernels_config": {
    "python": {
     "delete_cmd_postfix": "",
     "delete_cmd_prefix": "del ",
     "library": "var_list.py",
     "varRefreshCmd": "print(var_dic_list())"
    },
    "r": {
     "delete_cmd_postfix": ") ",
     "delete_cmd_prefix": "rm(",
     "library": "var_list.r",
     "varRefreshCmd": "cat(var_dic_list()) "
    }
   },
   "types_to_exclude": [
    "module",
    "function",
    "builtin_function_or_method",
    "instance",
    "_Feature"
   ],
   "window_display": false
  }
 },
 "nbformat": 4,
 "nbformat_minor": 2
}
