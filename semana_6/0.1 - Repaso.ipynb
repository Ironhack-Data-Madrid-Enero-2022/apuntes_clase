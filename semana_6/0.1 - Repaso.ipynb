{
 "cells": [
  {
   "cell_type": "markdown",
   "id": "8c30a34f",
   "metadata": {},
   "source": [
    "### Filosofía de la programación funcional\n",
    "\n",
    "- Abstracción: una función podría funcionar como una caja negra, donde nosotros no comprendemos su funcionamiento interno, pero somos capaces de usarla y trabajar con su resultado.\n",
    "\n",
    "- Modularización: las funciones tienen un objetivo específico, realizan una acción, para luego poder construir un proceso completo con varias funciones, varios pasos dentro del mismo. \n",
    "\n",
    "- Reusabilidad: las funciones pueden ser utilizadas cuantas veces sea necesario, son módulos independientes.\n",
    "\n",
    "\n",
    "En la programación funcional se hace la distinción entre datos y comportamiento, esto quiere decir que los programas tienen dos partes separadas, las acciones y los datos, funciones que se ejecutan con o sobre los datos. Esto hace que los datos sean inmutables en la programación funcional, a no ser que sean sobreescrito a propósito."
   ]
  },
  {
   "cell_type": "markdown",
   "id": "3143d988",
   "metadata": {},
   "source": [
    "### Programacion orientada a objetos\n",
    "\n",
    "La programación orientada a objetos tiene otra filosofía diferente que la programación funcional. En realidad python es orientado a objetos, cada vez que se declara una variable como una lista o una string, se esta llamando a esa clase. Para verlo tan solo hace falta escribir ` help`"
   ]
  },
  {
   "cell_type": "code",
   "execution_count": 3,
   "id": "fa77ea87",
   "metadata": {},
   "outputs": [],
   "source": [
    "#help(str)"
   ]
  },
  {
   "cell_type": "markdown",
   "id": "b0735ae7",
   "metadata": {},
   "source": [
    "Se devuelve una descripción de ambas clases.\n",
    "\n",
    "El mayor cambio en el paradigma es que ahora los datos no son inmutables, como eran en la programación funcional, datos y funciones están encapsulados en un objeto (la clase). Cada llamada a la clase (instancia) es un objeto nuevo.\n",
    "\n",
    "![objetos](images/objetos.png)"
   ]
  },
  {
   "cell_type": "markdown",
   "id": "685f492b",
   "metadata": {},
   "source": [
    "### Nomenclatura\n",
    "- Objeto (Object)\n",
    "    - también instancia (instance)\n",
    "    - es una entidad individual\n",
    "- Atributos (Attributes)\n",
    "    - características dadas al objeto\n",
    "    - usualmente se refiere a los datos\n",
    "- Métodos (Methods)\n",
    "    - son las funciones que pertenecen a cada objeto\n",
    "- Clase (Class)\n",
    "    - también conocido como tipo (type)\n",
    "    - es el molde, el esquema, la forma genérica para crear objetos (instancias) con la mismas características\n",
    "    \n",
    "**En python, a los atributos se accede con la sintaxis objeto.atributo y a los métodos con objeto.metodo().**"
   ]
  },
  {
   "cell_type": "code",
   "execution_count": 4,
   "id": "465104f5",
   "metadata": {},
   "outputs": [],
   "source": [
    "# primero funcional\n",
    "\n",
    "# datos\n",
    "\n",
    "mando={\n",
    "    'color':'negro',\n",
    "    'dimensiones':[15, 5, 3],\n",
    "    'inalambrico':True,\n",
    "    'recargable':True,\n",
    "    'botones':['POWER', 'UP', 'DOWN'],\n",
    "    'baterias':[\n",
    "        {'tipo':'AAA', 'carga':40},\n",
    "        {'tipo':'AAA', 'carga':60}\n",
    "    ]\n",
    "}"
   ]
  },
  {
   "cell_type": "code",
   "execution_count": 6,
   "id": "7f8bab6e",
   "metadata": {},
   "outputs": [],
   "source": [
    "def recarga(m):\n",
    "    if m['recargable']:\n",
    "        for b in m['baterias']:\n",
    "            b['carga']=100   # funcion que sobreescribe los datos\n",
    "    return m"
   ]
  },
  {
   "cell_type": "code",
   "execution_count": 7,
   "id": "232b8e97",
   "metadata": {},
   "outputs": [],
   "source": [
    "def funciona(m):\n",
    "    if len(m['baterias'])!=2:\n",
    "        return False\n",
    "    for b in m['baterias']:\n",
    "        if b['carga']==0:\n",
    "            return False\n",
    "    else:\n",
    "        return True"
   ]
  },
  {
   "cell_type": "code",
   "execution_count": 8,
   "id": "0f728c1d",
   "metadata": {},
   "outputs": [],
   "source": [
    "def encendido(m):\n",
    "    if funciona(m)==True:\n",
    "        for btn in m['botones']:\n",
    "            if btn=='POWER':\n",
    "                return True\n",
    "    return False"
   ]
  },
  {
   "cell_type": "code",
   "execution_count": 9,
   "id": "4e048be0",
   "metadata": {},
   "outputs": [
    {
     "data": {
      "text/plain": [
       "{'color': 'negro',\n",
       " 'dimensiones': [15, 5, 3],\n",
       " 'inalambrico': True,\n",
       " 'recargable': True,\n",
       " 'botones': ['POWER', 'UP', 'DOWN'],\n",
       " 'baterias': [{'tipo': 'AAA', 'carga': 40}, {'tipo': 'AAA', 'carga': 60}]}"
      ]
     },
     "execution_count": 9,
     "metadata": {},
     "output_type": "execute_result"
    }
   ],
   "source": [
    "mando"
   ]
  },
  {
   "cell_type": "code",
   "execution_count": 10,
   "id": "61250ec4",
   "metadata": {},
   "outputs": [
    {
     "data": {
      "text/plain": [
       "{'color': 'negro',\n",
       " 'dimensiones': [15, 5, 3],\n",
       " 'inalambrico': True,\n",
       " 'recargable': True,\n",
       " 'botones': ['POWER', 'UP', 'DOWN'],\n",
       " 'baterias': [{'tipo': 'AAA', 'carga': 100}, {'tipo': 'AAA', 'carga': 100}]}"
      ]
     },
     "execution_count": 10,
     "metadata": {},
     "output_type": "execute_result"
    }
   ],
   "source": [
    "recarga(mando)\n",
    "\n",
    "mando"
   ]
  },
  {
   "cell_type": "code",
   "execution_count": 11,
   "id": "169a5a41",
   "metadata": {},
   "outputs": [
    {
     "data": {
      "text/plain": [
       "True"
      ]
     },
     "execution_count": 11,
     "metadata": {},
     "output_type": "execute_result"
    }
   ],
   "source": [
    "funciona(mando)"
   ]
  },
  {
   "cell_type": "code",
   "execution_count": 12,
   "id": "046152fc",
   "metadata": {},
   "outputs": [],
   "source": [
    "class Mando:\n",
    "    \n",
    "    def __init__(self, color, con_pilas=True):  # metodo constructor\n",
    "        \n",
    "        # atributos\n",
    "        self.color=color\n",
    "        self.dimensiones=[15, 2, 5]\n",
    "        self.inalambrico=True\n",
    "        self.recargable=True\n",
    "        self.botones=['POWER', 'UP', 'DOWN']\n",
    "        \n",
    "        if con_pilas:\n",
    "            self.baterias=[\n",
    "                {'tipo':'AAA', 'carga':40},\n",
    "                {'tipo':'AAA', 'carga':60}\n",
    "            ]\n",
    "        \n",
    "        else:\n",
    "            self.baterias=[]\n",
    "        \n",
    "        \n",
    "    def recarga(self):\n",
    "        \n",
    "        if self.recargable:\n",
    "            \n",
    "            for b in self.baterias:\n",
    "                b['carga']=100\n",
    "                \n",
    "    \n",
    "    def pon_pila(self, carga=0):\n",
    "        self.baterias.append({'tipo':'AAA', 'carga':carga})\n",
    "        \n",
    "        \n",
    "    def funciona(self):\n",
    "        if len(self.baterias)!=2:\n",
    "            return False\n",
    "        \n",
    "        for b in self.baterias:\n",
    "            if b['carga']==0:\n",
    "                return False\n",
    "            \n",
    "        return True"
   ]
  },
  {
   "cell_type": "code",
   "execution_count": 13,
   "id": "43f37233",
   "metadata": {},
   "outputs": [
    {
     "data": {
      "text/plain": [
       "<__main__.Mando at 0x7fa8a1531730>"
      ]
     },
     "execution_count": 13,
     "metadata": {},
     "output_type": "execute_result"
    }
   ],
   "source": [
    "m1=Mando('blanco')\n",
    "\n",
    "m1"
   ]
  },
  {
   "cell_type": "code",
   "execution_count": 14,
   "id": "c62570d6",
   "metadata": {},
   "outputs": [
    {
     "data": {
      "text/plain": [
       "__main__.Mando"
      ]
     },
     "execution_count": 14,
     "metadata": {},
     "output_type": "execute_result"
    }
   ],
   "source": [
    "type(m1)"
   ]
  },
  {
   "cell_type": "code",
   "execution_count": 16,
   "id": "95a12df5",
   "metadata": {},
   "outputs": [
    {
     "data": {
      "text/plain": [
       "False"
      ]
     },
     "execution_count": 16,
     "metadata": {},
     "output_type": "execute_result"
    }
   ],
   "source": [
    "m1.recargable=False\n",
    "\n",
    "m1.recargable # atributo"
   ]
  },
  {
   "cell_type": "code",
   "execution_count": 17,
   "id": "13a13980",
   "metadata": {},
   "outputs": [],
   "source": [
    "m2=Mando('negro', False)"
   ]
  },
  {
   "cell_type": "code",
   "execution_count": 19,
   "id": "9ed05c15",
   "metadata": {},
   "outputs": [
    {
     "data": {
      "text/plain": [
       "False"
      ]
     },
     "execution_count": 19,
     "metadata": {},
     "output_type": "execute_result"
    }
   ],
   "source": [
    "m2.funciona()  # metodo"
   ]
  },
  {
   "cell_type": "code",
   "execution_count": 20,
   "id": "5e2b0d8b",
   "metadata": {},
   "outputs": [
    {
     "data": {
      "text/plain": [
       "[]"
      ]
     },
     "execution_count": 20,
     "metadata": {},
     "output_type": "execute_result"
    }
   ],
   "source": [
    "m2.baterias"
   ]
  },
  {
   "cell_type": "code",
   "execution_count": 21,
   "id": "0e295258",
   "metadata": {},
   "outputs": [],
   "source": [
    "m2.recarga()"
   ]
  },
  {
   "cell_type": "code",
   "execution_count": 22,
   "id": "4b50be51",
   "metadata": {},
   "outputs": [
    {
     "data": {
      "text/plain": [
       "[]"
      ]
     },
     "execution_count": 22,
     "metadata": {},
     "output_type": "execute_result"
    }
   ],
   "source": [
    "m2.baterias"
   ]
  },
  {
   "cell_type": "code",
   "execution_count": 25,
   "id": "c11f017c",
   "metadata": {},
   "outputs": [],
   "source": [
    "m2.pon_pila(100)"
   ]
  },
  {
   "cell_type": "code",
   "execution_count": 26,
   "id": "0074a0f0",
   "metadata": {},
   "outputs": [
    {
     "data": {
      "text/plain": [
       "[{'tipo': 'AAA', 'carga': 100}, {'tipo': 'AAA', 'carga': 100}]"
      ]
     },
     "execution_count": 26,
     "metadata": {},
     "output_type": "execute_result"
    }
   ],
   "source": [
    "m2.baterias"
   ]
  },
  {
   "cell_type": "code",
   "execution_count": 27,
   "id": "3c7ae3d7",
   "metadata": {},
   "outputs": [
    {
     "name": "stdout",
     "output_type": "stream",
     "text": [
      "Help on Mando in module __main__ object:\n",
      "\n",
      "class Mando(builtins.object)\n",
      " |  Mando(color, con_pilas=True)\n",
      " |  \n",
      " |  Methods defined here:\n",
      " |  \n",
      " |  __init__(self, color, con_pilas=True)\n",
      " |      Initialize self.  See help(type(self)) for accurate signature.\n",
      " |  \n",
      " |  funciona(self)\n",
      " |  \n",
      " |  pon_pila(self, carga=0)\n",
      " |  \n",
      " |  recarga(self)\n",
      " |  \n",
      " |  ----------------------------------------------------------------------\n",
      " |  Data descriptors defined here:\n",
      " |  \n",
      " |  __dict__\n",
      " |      dictionary for instance variables (if defined)\n",
      " |  \n",
      " |  __weakref__\n",
      " |      list of weak references to the object (if defined)\n",
      "\n"
     ]
    }
   ],
   "source": [
    "help(m2)"
   ]
  },
  {
   "cell_type": "markdown",
   "id": "daf37740",
   "metadata": {},
   "source": [
    "### Herencia (Inheritance)\n",
    "\n",
    "Imaginemos que dos clases diferentes comparten algunas características."
   ]
  },
  {
   "cell_type": "code",
   "execution_count": 37,
   "id": "b9cd03b6",
   "metadata": {},
   "outputs": [],
   "source": [
    "class Animal:   # clase padre\n",
    "    \n",
    "    def __init__(self, nombre='', sonido=''):\n",
    "        \n",
    "        self.nombre=nombre\n",
    "        self.sonido=sonido\n",
    "        \n",
    "    def decir_nombre(self):\n",
    "        print ('Mi nombre es: '+ self.nombre)\n",
    "        \n",
    "    def __str__(self):\n",
    "        return 'Hola soy ' + self.nombre + '!'"
   ]
  },
  {
   "cell_type": "code",
   "execution_count": 38,
   "id": "cd5b413b",
   "metadata": {},
   "outputs": [],
   "source": [
    "class Perro(Animal): # clase hija, herencia \n",
    "    \n",
    "    def __init__(self, nombre='Inu', raza='akita'):\n",
    "        \n",
    "        Animal.__init__(self, nombre+'🐶')\n",
    "        self.raza=raza"
   ]
  },
  {
   "cell_type": "code",
   "execution_count": 39,
   "id": "7de9f788",
   "metadata": {},
   "outputs": [],
   "source": [
    "a1=Animal('Garfield 🐱')\n",
    "\n",
    "a2=Perro('Pluto')"
   ]
  },
  {
   "cell_type": "code",
   "execution_count": 40,
   "id": "0cd05d49",
   "metadata": {},
   "outputs": [
    {
     "name": "stdout",
     "output_type": "stream",
     "text": [
      "Mi nombre es: Garfield 🐱\n"
     ]
    }
   ],
   "source": [
    "a1.decir_nombre()"
   ]
  },
  {
   "cell_type": "code",
   "execution_count": 41,
   "id": "39bd9caf",
   "metadata": {},
   "outputs": [
    {
     "name": "stdout",
     "output_type": "stream",
     "text": [
      "Mi nombre es: Pluto🐶\n"
     ]
    }
   ],
   "source": [
    "a2.decir_nombre()"
   ]
  },
  {
   "cell_type": "code",
   "execution_count": 42,
   "id": "b0644e8d",
   "metadata": {},
   "outputs": [
    {
     "data": {
      "text/plain": [
       "'akita'"
      ]
     },
     "execution_count": 42,
     "metadata": {},
     "output_type": "execute_result"
    }
   ],
   "source": [
    "a2.raza"
   ]
  },
  {
   "cell_type": "code",
   "execution_count": 43,
   "id": "e6953989",
   "metadata": {},
   "outputs": [
    {
     "name": "stdout",
     "output_type": "stream",
     "text": [
      "Hola soy Pluto🐶!\n"
     ]
    }
   ],
   "source": [
    "print(a2)"
   ]
  },
  {
   "cell_type": "code",
   "execution_count": 45,
   "id": "f8fb037b",
   "metadata": {},
   "outputs": [
    {
     "data": {
      "text/plain": [
       "'Garfield 🐱'"
      ]
     },
     "execution_count": 45,
     "metadata": {},
     "output_type": "execute_result"
    }
   ],
   "source": [
    "a1.nombre"
   ]
  },
  {
   "cell_type": "code",
   "execution_count": 47,
   "id": "a8fb14a8",
   "metadata": {},
   "outputs": [
    {
     "data": {
      "text/plain": [
       "''"
      ]
     },
     "execution_count": 47,
     "metadata": {},
     "output_type": "execute_result"
    }
   ],
   "source": [
    "a2.sonido"
   ]
  },
  {
   "cell_type": "markdown",
   "id": "ac973e30",
   "metadata": {},
   "source": [
    "## Métodos dunder\n",
    "#### métodos  __especiales__  \n",
    "\n",
    "- Se les llama `dunders` por la doble barra que tienen(double underscores) \n",
    "- También se les llama método mágicos (magic methods)\n",
    "- Conecta funciones con comportamientos y operadores externos\n",
    "\n",
    "Una pequeña lista:\n",
    "\n",
    "- `__repr__` : Representación oficial de una string (cuando se imprime el objeto)\n",
    "- `__str__` : Conversion a string y print\n",
    "- `__len__` : Cuando se pasa `len` a un iterable\n",
    "\n",
    "\n",
    "#### Operadores de comparación\n",
    "- `__eq__` : ==\n",
    "- `__ne__` : !=\n",
    "- `__lt__` : <\n",
    "- `__le__` : <=\n",
    "- `__gt__` : >\n",
    "- `__ge__` : >=\n",
    "\n",
    "\n",
    "#### Operadores\n",
    "- `__add__` : +\n",
    "- `__mul__` : *\n",
    "- `__truediv__` : /\n",
    "- `__sub__` : - \n",
    "\n",
    "**Más [información](https://docs.python.org/3/library/operator.html).**"
   ]
  },
  {
   "cell_type": "markdown",
   "id": "4d13282d",
   "metadata": {},
   "source": [
    "### Decoradores\n",
    "\n",
    "Los decoradores pueden definirse como patrones de diseño funcional. Permiten a una función tomar otra función como argumento para devolver una tercera función. De esta manera se obtienen funciones dinámicas sin tener que cambiar constantemente su código.\n",
    "\n",
    "Un decorador es como un envoltorio con el cual envolvemos una función."
   ]
  },
  {
   "cell_type": "code",
   "execution_count": 48,
   "id": "795076d9",
   "metadata": {},
   "outputs": [],
   "source": [
    "def debug(fn):\n",
    "    \n",
    "    def wrap(*args, **kwargs):\n",
    "        print('--Args :', args)\n",
    "        print('--Kwargs :', kwargs)\n",
    "        print('--Return :', fn(*args, **kwargs))\n",
    "        return fn(*args, **kwargs)\n",
    "    \n",
    "    return wrap"
   ]
  },
  {
   "cell_type": "code",
   "execution_count": 50,
   "id": "74c9bc3a",
   "metadata": {},
   "outputs": [
    {
     "name": "stdout",
     "output_type": "stream",
     "text": [
      "--Args : (8, 9)\n",
      "--Kwargs : {}\n",
      "--Return : 17\n"
     ]
    },
    {
     "data": {
      "text/plain": [
       "17"
      ]
     },
     "execution_count": 50,
     "metadata": {},
     "output_type": "execute_result"
    }
   ],
   "source": [
    "@debug\n",
    "def suma(a, b):\n",
    "    return a+b\n",
    "\n",
    "\n",
    "suma(8, 9)"
   ]
  },
  {
   "cell_type": "markdown",
   "id": "67a4a52f",
   "metadata": {},
   "source": [
    "**Compilador con [numba](https://numba.pydata.org/)**"
   ]
  },
  {
   "cell_type": "code",
   "execution_count": 51,
   "id": "c3c6dddd",
   "metadata": {},
   "outputs": [
    {
     "name": "stdout",
     "output_type": "stream",
     "text": [
      "Requirement already satisfied: numba in /Users/iudh/opt/anaconda3/envs/clase/lib/python3.8/site-packages (0.54.1)\n",
      "Requirement already satisfied: numpy<1.21,>=1.17 in /Users/iudh/opt/anaconda3/envs/clase/lib/python3.8/site-packages (from numba) (1.19.5)\n",
      "Requirement already satisfied: setuptools in /Users/iudh/opt/anaconda3/envs/clase/lib/python3.8/site-packages (from numba) (52.0.0.post20210125)\n",
      "Requirement already satisfied: llvmlite<0.38,>=0.37.0rc1 in /Users/iudh/opt/anaconda3/envs/clase/lib/python3.8/site-packages (from numba) (0.37.0)\n"
     ]
    }
   ],
   "source": [
    "!pip install numba"
   ]
  },
  {
   "cell_type": "code",
   "execution_count": 52,
   "id": "c3bc44de",
   "metadata": {},
   "outputs": [],
   "source": [
    "from numba import jit"
   ]
  },
  {
   "cell_type": "code",
   "execution_count": 61,
   "id": "91b847b8",
   "metadata": {},
   "outputs": [],
   "source": [
    "def fn(a, b, c, d):\n",
    "    return a*b/c+d**b"
   ]
  },
  {
   "cell_type": "code",
   "execution_count": 62,
   "id": "621c3e89",
   "metadata": {},
   "outputs": [
    {
     "name": "stdout",
     "output_type": "stream",
     "text": [
      "CPU times: user 18 µs, sys: 2 µs, total: 20 µs\n",
      "Wall time: 28.1 µs\n"
     ]
    },
    {
     "data": {
      "text/plain": [
       "1.2571866658759928e+58"
      ]
     },
     "execution_count": 62,
     "metadata": {},
     "output_type": "execute_result"
    }
   ],
   "source": [
    "%%time\n",
    "\n",
    "fn(2, 10, 53253, 645565)"
   ]
  },
  {
   "cell_type": "code",
   "execution_count": 63,
   "id": "a5fe6a5a",
   "metadata": {},
   "outputs": [],
   "source": [
    "@jit\n",
    "def fn(a, b, c, d):\n",
    "    return a*b/c+d**b"
   ]
  },
  {
   "cell_type": "code",
   "execution_count": 64,
   "id": "f9767b77",
   "metadata": {},
   "outputs": [
    {
     "name": "stdout",
     "output_type": "stream",
     "text": [
      "CPU times: user 139 ms, sys: 6.08 ms, total: 145 ms\n",
      "Wall time: 156 ms\n"
     ]
    },
    {
     "data": {
      "text/plain": [
       "5.385111172820624e+18"
      ]
     },
     "execution_count": 64,
     "metadata": {},
     "output_type": "execute_result"
    }
   ],
   "source": [
    "%%time\n",
    "\n",
    "fn(2, 10, 53253, 645565)"
   ]
  },
  {
   "cell_type": "code",
   "execution_count": null,
   "id": "8f1e7d44",
   "metadata": {},
   "outputs": [],
   "source": []
  }
 ],
 "metadata": {
  "kernelspec": {
   "display_name": "clase",
   "language": "python",
   "name": "clase"
  },
  "language_info": {
   "codemirror_mode": {
    "name": "ipython",
    "version": 3
   },
   "file_extension": ".py",
   "mimetype": "text/x-python",
   "name": "python",
   "nbconvert_exporter": "python",
   "pygments_lexer": "ipython3",
   "version": "3.8.8"
  }
 },
 "nbformat": 4,
 "nbformat_minor": 5
}
