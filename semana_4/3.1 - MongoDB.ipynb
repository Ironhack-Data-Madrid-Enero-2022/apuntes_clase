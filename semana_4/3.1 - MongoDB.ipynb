{
 "cells": [
  {
   "cell_type": "markdown",
   "id": "296c3fa2",
   "metadata": {},
   "source": [
    "# 3.1 - MongoDB\n",
    "\n",
    "https://docs.mongodb.com/manual/administration/install-community/\n",
    "\n",
    "https://docs.mongodb.com/compass/current/install/\n",
    "\n",
    "MongoDB es una base de datos orientada a documentos. Esto quiere decir que en lugar de guardar los datos en registros, guarda los datos en documentos. Estos documentos son almacenados en BSON, que es una representación binaria de JSON.\n",
    "\n",
    "Una de las diferencias más importantes con respecto a las bases de datos relacionales, es que no es necesario seguir un esquema. Los documentos de una misma colección, concepto similar a una tabla de una base de datos relacional, pueden tener esquemas diferentes.\n"
   ]
  },
  {
   "cell_type": "code",
   "execution_count": 1,
   "id": "d686b82b",
   "metadata": {},
   "outputs": [
    {
     "name": "stdout",
     "output_type": "stream",
     "text": [
      "Collecting pymongo\n",
      "  Downloading pymongo-4.0.1-cp38-cp38-macosx_10_9_x86_64.whl (351 kB)\n",
      "\u001b[K     |████████████████████████████████| 351 kB 6.0 MB/s eta 0:00:01\n",
      "\u001b[?25hInstalling collected packages: pymongo\n",
      "Successfully installed pymongo-4.0.1\n",
      "Note: you may need to restart the kernel to use updated packages.\n"
     ]
    }
   ],
   "source": [
    "%pip install pymongo"
   ]
  },
  {
   "cell_type": "code",
   "execution_count": 2,
   "id": "b53f90eb",
   "metadata": {},
   "outputs": [],
   "source": [
    "import pymongo # importa toda la libreria"
   ]
  },
  {
   "cell_type": "code",
   "execution_count": 3,
   "id": "87c2662e",
   "metadata": {},
   "outputs": [],
   "source": [
    "cliente=pymongo.MongoClient()   # llamar al servidor\n",
    "\n",
    "db=cliente.nueva_db    # crea una nueva base de datos"
   ]
  },
  {
   "cell_type": "code",
   "execution_count": 4,
   "id": "882a8427",
   "metadata": {},
   "outputs": [
    {
     "data": {
      "text/plain": [
       "['admin',\n",
       " 'arbbot',\n",
       " 'companies',\n",
       " 'complete_exchange_matches',\n",
       " 'config',\n",
       " 'local',\n",
       " 'telegram_messages']"
      ]
     },
     "execution_count": 4,
     "metadata": {},
     "output_type": "execute_result"
    }
   ],
   "source": [
    "cliente.list_database_names()"
   ]
  },
  {
   "cell_type": "code",
   "execution_count": 5,
   "id": "ae026dc9",
   "metadata": {},
   "outputs": [],
   "source": [
    "colec=db.n_coleccion    # crea una nueva coleccion de documentos"
   ]
  },
  {
   "cell_type": "code",
   "execution_count": 6,
   "id": "af4151db",
   "metadata": {},
   "outputs": [
    {
     "data": {
      "text/plain": [
       "[]"
      ]
     },
     "execution_count": 6,
     "metadata": {},
     "output_type": "execute_result"
    }
   ],
   "source": [
    "db.list_collection_names()"
   ]
  },
  {
   "cell_type": "code",
   "execution_count": 7,
   "id": "bc989056",
   "metadata": {},
   "outputs": [
    {
     "data": {
      "text/plain": [
       "<pymongo.results.InsertOneResult at 0x7f8638065fc0>"
      ]
     },
     "execution_count": 7,
     "metadata": {},
     "output_type": "execute_result"
    }
   ],
   "source": [
    "dictio={'nombre': 'Pepe', 'edad':50000}\n",
    "\n",
    "colec.insert_one(dictio) # inserta un elemento en la coleccion"
   ]
  },
  {
   "cell_type": "code",
   "execution_count": 8,
   "id": "85c8002d",
   "metadata": {},
   "outputs": [
    {
     "data": {
      "text/plain": [
       "['admin',\n",
       " 'arbbot',\n",
       " 'companies',\n",
       " 'complete_exchange_matches',\n",
       " 'config',\n",
       " 'local',\n",
       " 'nueva_db',\n",
       " 'telegram_messages']"
      ]
     },
     "execution_count": 8,
     "metadata": {},
     "output_type": "execute_result"
    }
   ],
   "source": [
    "cliente.list_database_names()"
   ]
  },
  {
   "cell_type": "code",
   "execution_count": 9,
   "id": "6afb0b69",
   "metadata": {},
   "outputs": [
    {
     "data": {
      "text/plain": [
       "['n_coleccion']"
      ]
     },
     "execution_count": 9,
     "metadata": {},
     "output_type": "execute_result"
    }
   ],
   "source": [
    "db.list_collection_names()"
   ]
  },
  {
   "cell_type": "code",
   "execution_count": 10,
   "id": "f4320811",
   "metadata": {},
   "outputs": [
    {
     "data": {
      "text/plain": [
       "<pymongo.results.InsertOneResult at 0x7f8678354080>"
      ]
     },
     "execution_count": 10,
     "metadata": {},
     "output_type": "execute_result"
    }
   ],
   "source": [
    "dictio={'saludo': 'hola que tal', 'insulto': 'eres un carapijo'}\n",
    "\n",
    "colec.insert_one(dictio)"
   ]
  },
  {
   "cell_type": "code",
   "execution_count": 59,
   "id": "812407c3",
   "metadata": {},
   "outputs": [
    {
     "data": {
      "text/plain": [
       "<pymongo.results.InsertManyResult at 0x7f8699dd2540>"
      ]
     },
     "execution_count": 59,
     "metadata": {},
     "output_type": "execute_result"
    }
   ],
   "source": [
    "# insertar varios\n",
    "\n",
    "colec.insert_many([\n",
    "    {'codigo': 'python', 'hora': '943', 'juego para niños': 'Java', 'edad': 30},\n",
    "    {'hola': 'adios','edad': 20}\n",
    "])"
   ]
  },
  {
   "cell_type": "code",
   "execution_count": 12,
   "id": "0dcf515f",
   "metadata": {},
   "outputs": [
    {
     "data": {
      "text/plain": [
       "<pymongo.results.InsertOneResult at 0x7f86480a6cc0>"
      ]
     },
     "execution_count": 12,
     "metadata": {},
     "output_type": "execute_result"
    }
   ],
   "source": [
    "dictio={'id': 0, 'saludo': 'hola que tal', 'insulto': 'eres un carapijo'} # puesto asi, es otra key\n",
    "\n",
    "colec.insert_one(dictio)"
   ]
  },
  {
   "cell_type": "code",
   "execution_count": 13,
   "id": "51f1daf9",
   "metadata": {},
   "outputs": [
    {
     "data": {
      "text/plain": [
       "<pymongo.results.InsertOneResult at 0x7f864807eb80>"
      ]
     },
     "execution_count": 13,
     "metadata": {},
     "output_type": "execute_result"
    }
   ],
   "source": [
    "dictio={'_id': 0, 'saludo': 'hola que tal', 'insulto': 'eres un carapijo'} # asi si\n",
    "\n",
    "colec.insert_one(dictio)"
   ]
  },
  {
   "cell_type": "code",
   "execution_count": 16,
   "id": "45b50423",
   "metadata": {},
   "outputs": [
    {
     "data": {
      "text/plain": [
       "<pymongo.results.InsertOneResult at 0x7f86480afd80>"
      ]
     },
     "execution_count": 16,
     "metadata": {},
     "output_type": "execute_result"
    }
   ],
   "source": [
    "dictio={'_id': 'h', 'saludo': 'hola que tal', 'insulto': 'eres un carapijo'} # asi si\n",
    "\n",
    "colec.insert_one(dictio)"
   ]
  },
  {
   "cell_type": "code",
   "execution_count": 18,
   "id": "20e41237",
   "metadata": {},
   "outputs": [
    {
     "data": {
      "text/plain": [
       "[{'_id': ObjectId('61fb93ab1877754bb923bd4d'),\n",
       "  'nombre': 'Pepe',\n",
       "  'edad': 50000},\n",
       " {'_id': ObjectId('61fb940e1877754bb923bd4e'),\n",
       "  'saludo': 'hola que tal',\n",
       "  'insulto': 'eres un carapijo'},\n",
       " {'_id': ObjectId('61fb95da1877754bb923bd4f'),\n",
       "  'codigo': 'python',\n",
       "  'hora': 943,\n",
       "  'juego para niños': 'Java'},\n",
       " {'_id': ObjectId('61fb95da1877754bb923bd50'), 'hola': 'adios'},\n",
       " {'_id': ObjectId('61fb96211877754bb923bd51'),\n",
       "  'id': 0,\n",
       "  'saludo': 'hola que tal',\n",
       "  'insulto': 'eres un carapijo'},\n",
       " {'_id': 0, 'saludo': 'hola que tal', 'insulto': 'eres un carapijo'},\n",
       " {'_id': 'hola', 'saludo': 'hola que tal', 'insulto': 'eres un carapijo'},\n",
       " {'_id': 'h', 'saludo': 'hola que tal', 'insulto': 'eres un carapijo'}]"
      ]
     },
     "execution_count": 18,
     "metadata": {},
     "output_type": "execute_result"
    }
   ],
   "source": [
    "list(colec.find())  # encuentra todo"
   ]
  },
  {
   "cell_type": "code",
   "execution_count": 19,
   "id": "308bdc0f",
   "metadata": {},
   "outputs": [
    {
     "data": {
      "text/plain": [
       "[{'_id': ObjectId('61fb940e1877754bb923bd4e'),\n",
       "  'saludo': 'hola que tal',\n",
       "  'insulto': 'eres un carapijo'},\n",
       " {'_id': ObjectId('61fb96211877754bb923bd51'),\n",
       "  'id': 0,\n",
       "  'saludo': 'hola que tal',\n",
       "  'insulto': 'eres un carapijo'},\n",
       " {'_id': 0, 'saludo': 'hola que tal', 'insulto': 'eres un carapijo'},\n",
       " {'_id': 'hola', 'saludo': 'hola que tal', 'insulto': 'eres un carapijo'},\n",
       " {'_id': 'h', 'saludo': 'hola que tal', 'insulto': 'eres un carapijo'}]"
      ]
     },
     "execution_count": 19,
     "metadata": {},
     "output_type": "execute_result"
    }
   ],
   "source": [
    "list(colec.find({'saludo': 'hola que tal'}))  # es una query"
   ]
  },
  {
   "cell_type": "code",
   "execution_count": 20,
   "id": "38d60c9f",
   "metadata": {},
   "outputs": [
    {
     "data": {
      "text/plain": [
       "[{'_id': ObjectId('61fb940e1877754bb923bd4e'),\n",
       "  'saludo': 'hola que tal',\n",
       "  'insulto': 'eres un carapijo'},\n",
       " {'_id': ObjectId('61fb96211877754bb923bd51'),\n",
       "  'id': 0,\n",
       "  'saludo': 'hola que tal',\n",
       "  'insulto': 'eres un carapijo'}]"
      ]
     },
     "execution_count": 20,
     "metadata": {},
     "output_type": "execute_result"
    }
   ],
   "source": [
    "list(colec.find({'saludo': 'hola que tal'}).limit(2))"
   ]
  },
  {
   "cell_type": "code",
   "execution_count": 23,
   "id": "52107153",
   "metadata": {},
   "outputs": [
    {
     "data": {
      "text/plain": [
       "[{'_id': ObjectId('61fb93ab1877754bb923bd4d'),\n",
       "  'nombre': 'Pepe',\n",
       "  'edad': 50000},\n",
       " {'_id': ObjectId('61fb97571877754bb923bd52'),\n",
       "  'codigo': 'python',\n",
       "  'hora': 943,\n",
       "  'juego para niños': 'Java',\n",
       "  'edad': 30}]"
      ]
     },
     "execution_count": 23,
     "metadata": {},
     "output_type": "execute_result"
    }
   ],
   "source": [
    "list(colec.find({'edad': {'$gte': 25}})) # dame aquellos doc cuya key edad sea mayor o igual que 25"
   ]
  },
  {
   "cell_type": "code",
   "execution_count": 24,
   "id": "dbfc33db",
   "metadata": {},
   "outputs": [
    {
     "data": {
      "text/plain": [
       "[{'_id': ObjectId('61fb93ab1877754bb923bd4d'),\n",
       "  'nombre': 'Pepe',\n",
       "  'edad': 50000},\n",
       " {'_id': ObjectId('61fb97571877754bb923bd52'),\n",
       "  'codigo': 'python',\n",
       "  'hora': 943,\n",
       "  'juego para niños': 'Java',\n",
       "  'edad': 30}]"
      ]
     },
     "execution_count": 24,
     "metadata": {},
     "output_type": "execute_result"
    }
   ],
   "source": [
    "list(colec.find({'edad': {'$gt': 25}})) # dame aquellos doc cuya key edad sea mayor que"
   ]
  },
  {
   "cell_type": "code",
   "execution_count": 25,
   "id": "b2294eb5",
   "metadata": {},
   "outputs": [
    {
     "data": {
      "text/plain": [
       "[{'_id': ObjectId('61fb97571877754bb923bd53'), 'hola': 'adios', 'edad': 20}]"
      ]
     },
     "execution_count": 25,
     "metadata": {},
     "output_type": "execute_result"
    }
   ],
   "source": [
    "list(colec.find({'edad': {'$lte': 25}})) # dame aquellos doc cuya key edad sea menor que o igual"
   ]
  },
  {
   "cell_type": "code",
   "execution_count": 26,
   "id": "347ac0ff",
   "metadata": {},
   "outputs": [
    {
     "data": {
      "text/plain": [
       "[{'_id': ObjectId('61fb97571877754bb923bd53'), 'hola': 'adios', 'edad': 20}]"
      ]
     },
     "execution_count": 26,
     "metadata": {},
     "output_type": "execute_result"
    }
   ],
   "source": [
    "list(colec.find({'edad': {'$lt': 25}})) # estrictamente menor"
   ]
  },
  {
   "cell_type": "code",
   "execution_count": 28,
   "id": "05f1bbb4",
   "metadata": {},
   "outputs": [
    {
     "data": {
      "text/plain": [
       "<pymongo.results.InsertOneResult at 0x7f8699a7cd80>"
      ]
     },
     "execution_count": 28,
     "metadata": {},
     "output_type": "execute_result"
    }
   ],
   "source": [
    "dictio={'saludo': 'hola que tal', 'insulto': {'1': 'tonto', '2': 'alegre'}} # asi si\n",
    "\n",
    "colec.insert_one(dictio)"
   ]
  },
  {
   "cell_type": "code",
   "execution_count": 35,
   "id": "82605c8e",
   "metadata": {},
   "outputs": [
    {
     "data": {
      "text/plain": [
       "[{'_id': ObjectId('61fb98701877754bb923bd55'),\n",
       "  'saludo': 'hola que tal',\n",
       "  'insulto': {'1': 'tonto', '2': 'alegre'}}]"
      ]
     },
     "execution_count": 35,
     "metadata": {},
     "output_type": "execute_result"
    }
   ],
   "source": [
    "list(colec.find({'insulto': {'1': 'tonto', '2': 'alegre'}})) "
   ]
  },
  {
   "cell_type": "code",
   "execution_count": 44,
   "id": "834043b6",
   "metadata": {},
   "outputs": [
    {
     "data": {
      "text/plain": [
       "<pymongo.results.DeleteResult at 0x7f8699dd8e80>"
      ]
     },
     "execution_count": 44,
     "metadata": {},
     "output_type": "execute_result"
    }
   ],
   "source": [
    "colec.delete_one({'_id': 'hola'})   # borrar uno, el primero si hay varios"
   ]
  },
  {
   "cell_type": "code",
   "execution_count": 45,
   "id": "3345ab20",
   "metadata": {},
   "outputs": [
    {
     "data": {
      "text/plain": [
       "[{'_id': ObjectId('61fb93ab1877754bb923bd4d'),\n",
       "  'nombre': 'Pepe',\n",
       "  'edad': 50000},\n",
       " {'_id': ObjectId('61fb940e1877754bb923bd4e'),\n",
       "  'saludo': 'hola que tal',\n",
       "  'insulto': 'eres un carapijo'},\n",
       " {'_id': ObjectId('61fb95da1877754bb923bd4f'),\n",
       "  'codigo': 'python',\n",
       "  'hora': 943,\n",
       "  'juego para niños': 'Java'},\n",
       " {'_id': ObjectId('61fb95da1877754bb923bd50'), 'hola': 'adios'},\n",
       " {'_id': ObjectId('61fb96211877754bb923bd51'),\n",
       "  'id': 0,\n",
       "  'saludo': 'hola que tal',\n",
       "  'insulto': 'eres un carapijo'},\n",
       " {'_id': 0, 'saludo': 'hola que tal', 'insulto': 'eres un carapijo'},\n",
       " {'_id': ObjectId('61fb97571877754bb923bd52'),\n",
       "  'codigo': 'python',\n",
       "  'hora': 943,\n",
       "  'juego para niños': 'Java',\n",
       "  'edad': 30},\n",
       " {'_id': ObjectId('61fb97571877754bb923bd53'), 'hola': 'adios', 'edad': 20},\n",
       " {'_id': ObjectId('61fb98701877754bb923bd55'),\n",
       "  'saludo': 'hola que tal',\n",
       "  'insulto': {'1': 'tonto', '2': 'alegre'}}]"
      ]
     },
     "execution_count": 45,
     "metadata": {},
     "output_type": "execute_result"
    }
   ],
   "source": [
    "list(colec.find())  "
   ]
  },
  {
   "cell_type": "code",
   "execution_count": 46,
   "id": "c9a824cc",
   "metadata": {},
   "outputs": [
    {
     "data": {
      "text/plain": [
       "<pymongo.results.DeleteResult at 0x7f8699ddd900>"
      ]
     },
     "execution_count": 46,
     "metadata": {},
     "output_type": "execute_result"
    }
   ],
   "source": [
    "colec.delete_many({'edad': {'$lt': 25}})  # borrar muchos segun condicion"
   ]
  },
  {
   "cell_type": "code",
   "execution_count": 48,
   "id": "39053424",
   "metadata": {},
   "outputs": [
    {
     "data": {
      "text/plain": [
       "[]"
      ]
     },
     "execution_count": 48,
     "metadata": {},
     "output_type": "execute_result"
    }
   ],
   "source": [
    "list(colec.find({'edad': {'$lt': 25}})) "
   ]
  },
  {
   "cell_type": "code",
   "execution_count": 49,
   "id": "8f5234e5",
   "metadata": {},
   "outputs": [
    {
     "data": {
      "text/plain": [
       "<pymongo.results.UpdateResult at 0x7f8699de2d00>"
      ]
     },
     "execution_count": 49,
     "metadata": {},
     "output_type": "execute_result"
    }
   ],
   "source": [
    "colec.update_one({'nombre': 'Pepe'}, {'$set': {'nombre': 'Mamut de las cavernas'}})"
   ]
  },
  {
   "cell_type": "code",
   "execution_count": 50,
   "id": "fe7063e4",
   "metadata": {},
   "outputs": [
    {
     "data": {
      "text/plain": [
       "[{'_id': ObjectId('61fb93ab1877754bb923bd4d'),\n",
       "  'nombre': 'Mamut de las cavernas',\n",
       "  'edad': 50000},\n",
       " {'_id': ObjectId('61fb940e1877754bb923bd4e'),\n",
       "  'saludo': 'hola que tal',\n",
       "  'insulto': 'eres un carapijo'},\n",
       " {'_id': ObjectId('61fb95da1877754bb923bd4f'),\n",
       "  'codigo': 'python',\n",
       "  'hora': 943,\n",
       "  'juego para niños': 'Java'},\n",
       " {'_id': ObjectId('61fb95da1877754bb923bd50'), 'hola': 'adios'},\n",
       " {'_id': ObjectId('61fb96211877754bb923bd51'),\n",
       "  'id': 0,\n",
       "  'saludo': 'hola que tal',\n",
       "  'insulto': 'eres un carapijo'},\n",
       " {'_id': 0, 'saludo': 'hola que tal', 'insulto': 'eres un carapijo'},\n",
       " {'_id': ObjectId('61fb97571877754bb923bd52'),\n",
       "  'codigo': 'python',\n",
       "  'hora': 943,\n",
       "  'juego para niños': 'Java',\n",
       "  'edad': 30},\n",
       " {'_id': ObjectId('61fb98701877754bb923bd55'),\n",
       "  'saludo': 'hola que tal',\n",
       "  'insulto': {'1': 'tonto', '2': 'alegre'}}]"
      ]
     },
     "execution_count": 50,
     "metadata": {},
     "output_type": "execute_result"
    }
   ],
   "source": [
    "list(colec.find())  "
   ]
  },
  {
   "cell_type": "code",
   "execution_count": 54,
   "id": "35e15e66",
   "metadata": {},
   "outputs": [
    {
     "data": {
      "text/plain": [
       "<pymongo.results.UpdateResult at 0x7f8668075b80>"
      ]
     },
     "execution_count": 54,
     "metadata": {},
     "output_type": "execute_result"
    }
   ],
   "source": [
    "colec.update_many({'saludo': 'hola'}, {'$set': {'saludo': ' hola chato, como vas?'}})"
   ]
  },
  {
   "cell_type": "code",
   "execution_count": 60,
   "id": "d6a5958d",
   "metadata": {},
   "outputs": [
    {
     "data": {
      "text/plain": [
       "[{'_id': ObjectId('61fba2b31877754bb923bd56'),\n",
       "  'codigo': 'python',\n",
       "  'hora': '943',\n",
       "  'juego para niños': 'Java',\n",
       "  'edad': 30}]"
      ]
     },
     "execution_count": 60,
     "metadata": {},
     "output_type": "execute_result"
    }
   ],
   "source": [
    "list(colec.find({'hora': {'$regex': '\\d'}}))  # con regex"
   ]
  },
  {
   "cell_type": "code",
   "execution_count": 61,
   "id": "54378de9",
   "metadata": {},
   "outputs": [],
   "source": [
    "colec.drop()  # elimina la coleccion"
   ]
  },
  {
   "cell_type": "code",
   "execution_count": 62,
   "id": "1fbe138b",
   "metadata": {},
   "outputs": [
    {
     "data": {
      "text/plain": [
       "[]"
      ]
     },
     "execution_count": 62,
     "metadata": {},
     "output_type": "execute_result"
    }
   ],
   "source": [
    "db.list_collection_names()"
   ]
  },
  {
   "cell_type": "markdown",
   "id": "3a5a081e",
   "metadata": {},
   "source": [
    "### Geoqueries"
   ]
  },
  {
   "cell_type": "code",
   "execution_count": null,
   "id": "fc1ac2f4",
   "metadata": {},
   "outputs": [],
   "source": []
  },
  {
   "cell_type": "code",
   "execution_count": null,
   "id": "fda7a05e",
   "metadata": {},
   "outputs": [],
   "source": []
  },
  {
   "cell_type": "code",
   "execution_count": null,
   "id": "4b6ea2d9",
   "metadata": {},
   "outputs": [],
   "source": []
  },
  {
   "cell_type": "code",
   "execution_count": null,
   "id": "f6b1b78d",
   "metadata": {},
   "outputs": [],
   "source": []
  },
  {
   "cell_type": "code",
   "execution_count": null,
   "id": "ee97f297",
   "metadata": {},
   "outputs": [],
   "source": []
  },
  {
   "cell_type": "code",
   "execution_count": null,
   "id": "a1483034",
   "metadata": {},
   "outputs": [],
   "source": []
  },
  {
   "cell_type": "code",
   "execution_count": null,
   "id": "cfe2dbad",
   "metadata": {},
   "outputs": [],
   "source": []
  },
  {
   "cell_type": "code",
   "execution_count": null,
   "id": "ca153d3d",
   "metadata": {},
   "outputs": [],
   "source": []
  },
  {
   "cell_type": "code",
   "execution_count": null,
   "id": "9981bc6a",
   "metadata": {},
   "outputs": [],
   "source": []
  },
  {
   "cell_type": "code",
   "execution_count": null,
   "id": "79428353",
   "metadata": {},
   "outputs": [],
   "source": []
  },
  {
   "cell_type": "code",
   "execution_count": null,
   "id": "479d9e52",
   "metadata": {},
   "outputs": [],
   "source": []
  },
  {
   "cell_type": "code",
   "execution_count": null,
   "id": "06e2a013",
   "metadata": {},
   "outputs": [],
   "source": []
  },
  {
   "cell_type": "code",
   "execution_count": null,
   "id": "7908dfad",
   "metadata": {},
   "outputs": [],
   "source": []
  },
  {
   "cell_type": "code",
   "execution_count": null,
   "id": "e4b7c626",
   "metadata": {},
   "outputs": [],
   "source": []
  },
  {
   "cell_type": "code",
   "execution_count": null,
   "id": "a935b2c1",
   "metadata": {},
   "outputs": [],
   "source": []
  },
  {
   "cell_type": "code",
   "execution_count": null,
   "id": "5e564955",
   "metadata": {},
   "outputs": [],
   "source": []
  },
  {
   "cell_type": "code",
   "execution_count": null,
   "id": "9dcbc426",
   "metadata": {},
   "outputs": [],
   "source": []
  },
  {
   "cell_type": "code",
   "execution_count": null,
   "id": "1f8e6245",
   "metadata": {},
   "outputs": [],
   "source": []
  },
  {
   "cell_type": "code",
   "execution_count": null,
   "id": "f1889823",
   "metadata": {},
   "outputs": [],
   "source": []
  },
  {
   "cell_type": "code",
   "execution_count": null,
   "id": "7c15673c",
   "metadata": {},
   "outputs": [],
   "source": []
  },
  {
   "cell_type": "code",
   "execution_count": null,
   "id": "2d246b8d",
   "metadata": {},
   "outputs": [],
   "source": []
  },
  {
   "cell_type": "code",
   "execution_count": null,
   "id": "ebb3a121",
   "metadata": {},
   "outputs": [],
   "source": []
  },
  {
   "cell_type": "code",
   "execution_count": null,
   "id": "958eb501",
   "metadata": {},
   "outputs": [],
   "source": []
  },
  {
   "cell_type": "code",
   "execution_count": null,
   "id": "0f5f4495",
   "metadata": {},
   "outputs": [],
   "source": []
  }
 ],
 "metadata": {
  "kernelspec": {
   "display_name": "clase",
   "language": "python",
   "name": "clase"
  },
  "language_info": {
   "codemirror_mode": {
    "name": "ipython",
    "version": 3
   },
   "file_extension": ".py",
   "mimetype": "text/x-python",
   "name": "python",
   "nbconvert_exporter": "python",
   "pygments_lexer": "ipython3",
   "version": "3.8.8"
  },
  "varInspector": {
   "cols": {
    "lenName": 16,
    "lenType": 16,
    "lenVar": 40
   },
   "kernels_config": {
    "python": {
     "delete_cmd_postfix": "",
     "delete_cmd_prefix": "del ",
     "library": "var_list.py",
     "varRefreshCmd": "print(var_dic_list())"
    },
    "r": {
     "delete_cmd_postfix": ") ",
     "delete_cmd_prefix": "rm(",
     "library": "var_list.r",
     "varRefreshCmd": "cat(var_dic_list()) "
    }
   },
   "types_to_exclude": [
    "module",
    "function",
    "builtin_function_or_method",
    "instance",
    "_Feature"
   ],
   "window_display": false
  }
 },
 "nbformat": 4,
 "nbformat_minor": 5
}
