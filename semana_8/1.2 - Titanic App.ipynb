{
 "cells": [
  {
   "cell_type": "markdown",
   "id": "7658510b",
   "metadata": {},
   "source": [
    "# Titanic App\n",
    "\n",
    "![img](static/images/small_titanic.jpg)\n",
    "\n",
    "¿Sobreviviria tu pasajero?"
   ]
  },
  {
   "cell_type": "markdown",
   "id": "f9c28696",
   "metadata": {},
   "source": [
    "**librerias**"
   ]
  },
  {
   "cell_type": "code",
   "execution_count": null,
   "id": "55c0ca84",
   "metadata": {},
   "outputs": [],
   "source": [
    "import warnings\n",
    "warnings.simplefilter('ignore')\n",
    "\n",
    "import pylab as plt\n",
    "\n",
    "import pandas as pd\n",
    "import numpy as np"
   ]
  },
  {
   "cell_type": "markdown",
   "id": "f9d738c2",
   "metadata": {},
   "source": [
    "**datos**\n",
    "\n",
    "[fuente](https://raw.githubusercontent.com/datasciencedojo/datasets/master/titanic.csv)\n",
    "\n",
    "Incluyen caracteristicas como edad, numero de ticket, cabina, etc..\n",
    "\n",
    "El objetivo es clasificar-predecir la supervivencia."
   ]
  },
  {
   "cell_type": "code",
   "execution_count": null,
   "id": "7444a34f",
   "metadata": {},
   "outputs": [],
   "source": [
    "df=pd.read_excel('titanic.xls')\n",
    "\n",
    "df.head()"
   ]
  },
  {
   "cell_type": "markdown",
   "id": "c7333b9d",
   "metadata": {},
   "source": [
    "**exploracion**"
   ]
  },
  {
   "cell_type": "code",
   "execution_count": null,
   "id": "5d16288b",
   "metadata": {},
   "outputs": [],
   "source": [
    "df.shape"
   ]
  },
  {
   "cell_type": "code",
   "execution_count": null,
   "id": "52e3ff3c",
   "metadata": {},
   "outputs": [],
   "source": [
    "df.columns"
   ]
  },
  {
   "cell_type": "code",
   "execution_count": null,
   "id": "88015eb4",
   "metadata": {},
   "outputs": [],
   "source": [
    "df.info(memory_usage='deep')"
   ]
  },
  {
   "cell_type": "code",
   "execution_count": null,
   "id": "f7ae55e8",
   "metadata": {},
   "outputs": [],
   "source": [
    "df.isna().sum()"
   ]
  },
  {
   "cell_type": "code",
   "execution_count": null,
   "id": "c0ce4f44",
   "metadata": {},
   "outputs": [],
   "source": [
    "df.describe()"
   ]
  },
  {
   "cell_type": "markdown",
   "id": "fc787ffe",
   "metadata": {},
   "source": [
    "**preparando datos**"
   ]
  },
  {
   "cell_type": "code",
   "execution_count": null,
   "id": "9ac95a13",
   "metadata": {},
   "outputs": [],
   "source": [
    "# tratando los NaN\n",
    "\n",
    "# letra de la cabina\n",
    "df.cabin=df.cabin.replace(np.NaN, 'U') \n",
    "df.cabin=[e[0] for e in df.cabin.values]\n",
    "\n",
    "df.cabin=df.cabin.replace('U', 'Unknown')"
   ]
  },
  {
   "cell_type": "code",
   "execution_count": null,
   "id": "c96b9717",
   "metadata": {},
   "outputs": [],
   "source": [
    "# titulo (Señor-Señora)\n",
    "df['title']=[e.split()[1] for e in df.name.values]\n",
    "\n",
    "\n",
    "df.title=[t if t in ['Mr.', 'Miss.', \n",
    "                     'Mrs.', 'Master.', \n",
    "                     'Dr.', 'Rev.'] else 'Unknown'\n",
    "          for t in df.title.values ]"
   ]
  },
  {
   "cell_type": "code",
   "execution_count": null,
   "id": "91e7a837",
   "metadata": {},
   "outputs": [],
   "source": [
    "df.title.value_counts()"
   ]
  },
  {
   "cell_type": "code",
   "execution_count": null,
   "id": "2dbfeb62",
   "metadata": {},
   "outputs": [],
   "source": [
    "df.pclass.unique()"
   ]
  },
  {
   "cell_type": "code",
   "execution_count": null,
   "id": "cf5cf413",
   "metadata": {},
   "outputs": [],
   "source": [
    "df.head()"
   ]
  },
  {
   "cell_type": "code",
   "execution_count": null,
   "id": "170e707b",
   "metadata": {},
   "outputs": [],
   "source": [
    "# se crea el campo de si es mujer\n",
    "df['isfemale']=np.where(df.sex=='female', 1, 0)\n",
    "\n",
    "# pclass a categorico string\n",
    "df.pclass=np.where(df.pclass== 1,'First', \n",
    "                   np.where(df.pclass==2, \n",
    "                            'Second', 'Third'))\n",
    " \n",
    "\n",
    "\n",
    "# se eliminan columnas innecesarias\n",
    "df=df.drop(columns=['sex', 'name', 'boat', 'body', 'ticket', 'home.dest', 'cabin', 'embarked'])"
   ]
  },
  {
   "cell_type": "code",
   "execution_count": null,
   "id": "748054b5",
   "metadata": {},
   "outputs": [],
   "source": [
    "df.head()"
   ]
  },
  {
   "cell_type": "code",
   "execution_count": null,
   "id": "1703d976",
   "metadata": {},
   "outputs": [],
   "source": [
    "# one-hot encoding de las variables categoricas\n",
    "\n",
    "\n",
    "df_dummy=pd.get_dummies(df, \n",
    "                        columns=['pclass', 'title'], \n",
    "                        drop_first=False)\n",
    "\n",
    "df_dummy=df_dummy.dropna()\n",
    "\n",
    "df_dummy.head()"
   ]
  },
  {
   "cell_type": "code",
   "execution_count": null,
   "id": "8eee236a",
   "metadata": {},
   "outputs": [],
   "source": [
    "df_dummy.info()"
   ]
  },
  {
   "cell_type": "markdown",
   "id": "6a523195",
   "metadata": {},
   "source": [
    "## Modelo"
   ]
  },
  {
   "cell_type": "code",
   "execution_count": null,
   "id": "d49ed7d2",
   "metadata": {},
   "outputs": [],
   "source": [
    "from sklearn.model_selection import train_test_split as tts\n",
    "\n",
    "from sklearn.ensemble import RandomForestClassifier as RFC\n",
    "\n",
    "from sklearn.metrics import f1_score as f1"
   ]
  },
  {
   "cell_type": "code",
   "execution_count": null,
   "id": "43417b81",
   "metadata": {},
   "outputs": [],
   "source": [
    "X=df_dummy.drop(columns=['survived', 'sibsp', 'parch'])\n",
    "\n",
    "y=df_dummy.survived\n",
    "\n",
    "\n",
    "X_train, X_test, y_train, y_test=tts(X, y, test_size=.2, random_state=42)"
   ]
  },
  {
   "cell_type": "code",
   "execution_count": null,
   "id": "337010b3",
   "metadata": {},
   "outputs": [],
   "source": [
    "X.head()"
   ]
  },
  {
   "cell_type": "code",
   "execution_count": null,
   "id": "259206ce",
   "metadata": {},
   "outputs": [],
   "source": [
    "rfc=RFC(n_estimators=180)\n",
    "\n",
    "rfc.fit(X_train, y_train)\n",
    "\n",
    "y_pred=rfc.predict(X_test)\n",
    "\n",
    "'Acc:', rfc.score(X_test, y_test), 'F1:', f1(y_pred, y_test)"
   ]
  },
  {
   "cell_type": "code",
   "execution_count": null,
   "id": "c368718c",
   "metadata": {},
   "outputs": [],
   "source": [
    "plt.bar(X.columns, rfc.feature_importances_)\n",
    "plt.xticks(rotation=90);"
   ]
  },
  {
   "cell_type": "markdown",
   "id": "652e96de",
   "metadata": {},
   "source": [
    "### Hiperparametros"
   ]
  },
  {
   "cell_type": "code",
   "execution_count": null,
   "id": "8f08517f",
   "metadata": {},
   "outputs": [],
   "source": [
    "from hyperopt import fmin, hp, tpe, Trials, space_eval, STATUS_OK\n",
    "\n",
    "from sklearn.metrics import accuracy_score as acc\n",
    "from sklearn.metrics import roc_auc_score as auc"
   ]
  },
  {
   "cell_type": "code",
   "execution_count": null,
   "id": "33425aaa",
   "metadata": {},
   "outputs": [],
   "source": [
    "criteria=['gini', 'entropy']\n",
    "weight=['balanced', 'balanced_subsample']\n",
    "features=['auto', 'sqrt', 'log2']\n",
    "\n",
    "\n",
    "space={\n",
    "    'n_estimators':hp.quniform('n_estimators', 10, 1000, 20),\n",
    "    \n",
    "    'criterion': hp.choice('criterion', criteria),\n",
    "        \n",
    "    'max_depth':hp.quniform('max_depth', 3, 16, 1),\n",
    "    \n",
    "    'min_samples_split': hp.quniform('min_samples_split', 2, 10, 1),\n",
    "    \n",
    "    'class_weight': hp.choice('class_weight', weight),\n",
    "    \n",
    "    'max_features': hp.choice('max_features', features)\n",
    "}"
   ]
  },
  {
   "cell_type": "code",
   "execution_count": null,
   "id": "a300591c",
   "metadata": {},
   "outputs": [],
   "source": [
    "def objetivo(space):\n",
    "    \n",
    "    modelo=RFC(\n",
    "        n_estimators=int(space['n_estimators']),\n",
    "        criterion=space['criterion'],\n",
    "        max_depth=int(space['max_depth']),\n",
    "        min_samples_split=int(space['min_samples_split']),\n",
    "        class_weight=space['class_weight'],\n",
    "        max_features=space['max_features']\n",
    "    )\n",
    "        \n",
    "    modelo.fit(X_train, y_train)\n",
    "    \n",
    "    y_pred=modelo.predict(X_test)\n",
    "    \n",
    "    acc_=acc(y_pred, y_test)\n",
    "    f1_=f1(y_pred, y_test)\n",
    "    auc_=auc(y_pred, y_test)\n",
    "    \n",
    "    return {'loss':-auc_, 'status':STATUS_OK}"
   ]
  },
  {
   "cell_type": "code",
   "execution_count": null,
   "id": "cc3e7eb8",
   "metadata": {},
   "outputs": [],
   "source": [
    "best=fmin(fn=objetivo,\n",
    "          space=space,\n",
    "          algo=tpe.suggest,\n",
    "          max_evals=150,\n",
    "          trials=Trials())\n",
    "\n",
    "best"
   ]
  },
  {
   "cell_type": "code",
   "execution_count": null,
   "id": "4667e634",
   "metadata": {},
   "outputs": [],
   "source": [
    "rfc=RFC(n_estimators=int(best['n_estimators']),\n",
    "        criterion=criteria[best['criterion']],\n",
    "        max_depth=int(best['max_depth']),\n",
    "        min_samples_split=int(best['min_samples_split']),\n",
    "        class_weight=weight[best['class_weight']],\n",
    "        max_features=features[best['max_features']])\n",
    "\n",
    "\n",
    "rfc.fit(X_train, y_train)\n",
    "\n",
    "y_pred=rfc.predict(X_test)\n",
    "\n",
    "'Acc:', rfc.score(X_test, y_test), 'F1:', f1(y_pred, y_test)"
   ]
  },
  {
   "cell_type": "markdown",
   "id": "1990ddae",
   "metadata": {},
   "source": [
    "## Reentreno y guardado"
   ]
  },
  {
   "cell_type": "code",
   "execution_count": null,
   "id": "0500583e",
   "metadata": {},
   "outputs": [],
   "source": [
    "import pickle"
   ]
  },
  {
   "cell_type": "code",
   "execution_count": null,
   "id": "103cd11d",
   "metadata": {},
   "outputs": [],
   "source": [
    "rfc=RFC(n_estimators=int(best['n_estimators']),\n",
    "        criterion=criteria[best['criterion']],\n",
    "        max_depth=int(best['max_depth']),\n",
    "        min_samples_split=int(best['min_samples_split']),\n",
    "        class_weight=weight[best['class_weight']],\n",
    "        max_features=features[best['max_features']])\n",
    "\n",
    "\n",
    "rfc.fit(X, y)"
   ]
  },
  {
   "cell_type": "code",
   "execution_count": null,
   "id": "9a29c485",
   "metadata": {},
   "outputs": [],
   "source": [
    "pickle.dump(rfc, open('modelo_rfc.pkl', 'wb'))  "
   ]
  },
  {
   "cell_type": "markdown",
   "id": "8c9f4cab",
   "metadata": {},
   "source": [
    "## Carga y prediccion"
   ]
  },
  {
   "cell_type": "code",
   "execution_count": null,
   "id": "75248183",
   "metadata": {},
   "outputs": [],
   "source": [
    "rfc_cargado=pickle.load(open('modelo_rfc.pkl', 'rb'))"
   ]
  },
  {
   "cell_type": "code",
   "execution_count": null,
   "id": "2e4fdadf",
   "metadata": {},
   "outputs": [],
   "source": [
    "y_pred=rfc_cargado.predict(X_test)\n",
    "\n",
    "'Acc:', rfc.score(X_test, y_test), 'F1:', f1(y_pred, y_test)"
   ]
  },
  {
   "cell_type": "code",
   "execution_count": null,
   "id": "544eb0bf",
   "metadata": {},
   "outputs": [],
   "source": [
    "X.head()"
   ]
  },
  {
   "cell_type": "code",
   "execution_count": null,
   "id": "1f4fa7ad",
   "metadata": {},
   "outputs": [],
   "source": [
    "# se crea un pasajero ficticio\n",
    "\n",
    "\n",
    "pasajero=dict(zip(X.columns, [25, 200, 1, 1, 0, 0, 0, 0, 1, 0, 0, 0, 0]))\n",
    "\n",
    "pasajero"
   ]
  },
  {
   "cell_type": "code",
   "execution_count": null,
   "id": "6c03dca6",
   "metadata": {},
   "outputs": [],
   "source": [
    "y_pred=rfc_cargado.predict([list(pasajero.values())])\n",
    "\n",
    "y_prob=rfc_cargado.predict_proba([list(pasajero.values())])\n",
    "\n",
    "print ('Etiqueta:', y_pred) \n",
    "print ()\n",
    "print ('Probabilidad [0 , 1]:', y_prob[0])\n",
    "print ()\n",
    "print ('Prob supervivencia:', y_prob[0][1])"
   ]
  },
  {
   "cell_type": "markdown",
   "id": "47a6a149",
   "metadata": {},
   "source": [
    "## Plot"
   ]
  },
  {
   "cell_type": "code",
   "execution_count": null,
   "id": "d45f37bd",
   "metadata": {},
   "outputs": [],
   "source": [
    "tasa_media_super=np.mean(df.survived)*100\n",
    "print ('Tasa media supervivencia: {:.2f}%'.format(tasa_media_super))"
   ]
  },
  {
   "cell_type": "code",
   "execution_count": null,
   "id": "1a61cfeb",
   "metadata": {},
   "outputs": [],
   "source": [
    "with plt.xkcd():\n",
    "    plt.figure(figsize=(10,8))\n",
    "\n",
    "    plt.bar(range(2),\n",
    "            [tasa_media_super, y_prob[0][1]*100],\n",
    "            align='center', \n",
    "            color=['y', 'b'], \n",
    "            alpha=0.5)\n",
    "\n",
    "    plt.xticks(range(2), ['Tasa Supervivencia media', 'Pasajero'])\n",
    "\n",
    "    plt.axhline(tasa_media_super, color='r')\n",
    "    plt.ylim([0,100])\n",
    "    plt.ylabel('Probabilidad Supervivencia')\n",
    "    plt.title('¿Sobrevivirá tu pasajero? \\n '+'¡{:.2f}% de probabilidad!'.format(y_prob[0][1]*100));"
   ]
  },
  {
   "cell_type": "markdown",
   "id": "539e3edd",
   "metadata": {},
   "source": [
    "# Web-App (main.py)"
   ]
  },
  {
   "cell_type": "code",
   "execution_count": null,
   "id": "261d4612",
   "metadata": {},
   "outputs": [],
   "source": [
    "from flask import Flask\n",
    "from flask import render_template\n",
    "from flask import request\n",
    "from flask import Markup\n",
    "\n",
    "import matplotlib\n",
    "matplotlib.use('Agg')\n",
    "import matplotlib.pyplot as plt\n",
    "\n",
    "import io\n",
    "import os\n",
    "import base64\n",
    "\n",
    "import numpy as np\n",
    "import pickle\n",
    "\n",
    "\n",
    "# necesario en pythonanywhere\n",
    "#PATH=os.path.dirname(os.path.abspath(__file__))\n",
    "\n",
    "# inicializando variables\n",
    "tasa_media=38.20\n",
    "\n",
    "\n",
    "# modelo \n",
    "modelo=None\n",
    "\n",
    "\n",
    "# flask app\n",
    "app=Flask(__name__)\n",
    "\n",
    "\n",
    "\n",
    "# antes del primer request...\n",
    "@app.before_first_request\n",
    "def startup():\n",
    "    global modelo\n",
    "    \n",
    "    modelo=pickle.load(open('modelo_rfc.pkl', 'rb'))\n",
    "    \n",
    "    \n",
    "    \n",
    "# main app\n",
    "@app.route(\"/\", methods=['POST', 'GET'])\n",
    "def main():\n",
    "    \n",
    "    if request.method=='POST':\n",
    "        \n",
    "        response={\n",
    "            's_age': request.form['s_age'],\n",
    "            's_fare': request.form['s_fare'],\n",
    "            's_gender': 1 if request.form['s_gender']=='Female' else 0,\n",
    "            's_pclass': request.form['s_pclass'],\n",
    "            's_title': request.form['s_title']}\n",
    "        \n",
    "        # titulo\n",
    "        title={'Dr':     [1, 0, 0, 0, 0, 0, 0],\n",
    "               'Master': [0, 1, 0, 0, 0, 0, 0],\n",
    "               'Miss':   [0, 0, 1, 0, 0, 0, 0],\n",
    "               'Mr':     [0, 0, 0, 1, 0, 0, 0],\n",
    "               'Mrs':    [0, 0, 0, 0, 1, 0, 0],\n",
    "               'Rev':    [0, 0, 0, 0, 0, 1, 0],\n",
    "               'Unknown':[0, 0, 0, 0, 0, 0, 1]}\n",
    "\n",
    "            \n",
    "        # clase\n",
    "        p_class={'First':  [1, 0, 0],\n",
    "                 'Second': [0, 1, 0],\n",
    "                 'Third':  [0, 0, 1]}\n",
    "            \n",
    "        \n",
    "        # pasajero\n",
    "        pasajero=[[int(response['s_age']),          # edad\n",
    "                   int(response['s_fare']),         # tarifa\n",
    "                   response['s_gender']]+           # genero\n",
    "                   p_class[response['s_pclass']]+   # clase    \n",
    "                   title[response['s_title']]]      # titulo\n",
    "        \n",
    "        \n",
    "        # prediccion\n",
    "        y_prob=modelo.predict_proba(pasajero)\n",
    "        \n",
    "        \n",
    "        # plot\n",
    "        with plt.xkcd():\n",
    "            plt.figure()\n",
    " \n",
    "            plt.bar(range(2),[tasa_media, y_prob[0][1]*100],\n",
    "                    align='center', color=['y', 'b'], alpha=0.5)\n",
    "            \n",
    "            plt.xticks(range(2), ['Tasa Supervivencia media', 'Pasajero'])\n",
    "            plt.axhline(tasa_media, color='r')\n",
    "            plt.ylim([0,100])\n",
    "            plt.ylabel('Probabilidad Supervivencia')\n",
    "            plt.title('¿Sobrevivirá tu pasajero? \\n '+'¡{:.2f}% de probabilidad!'.format(y_prob[0][1]*100))\n",
    "            img=io.BytesIO()\n",
    "            plt.savefig(img, format='png')\n",
    "            img.seek(0)\n",
    "            plot_url=base64.b64encode(img.getvalue()).decode()\n",
    "            \n",
    "        \n",
    "        return render_template('index.html',\n",
    "                               model_results='',\n",
    "                               model_plot=Markup('<img src=\"data:image/png;base64,{}\">'.format(plot_url)),\n",
    "                               s_age=response['s_age'],\n",
    "                               s_fare=response['s_fare'],\n",
    "                               s_gender=request.form['s_gender'],\n",
    "                               s_pclass=response['s_pclass'],\n",
    "                               s_title=response['s_title'])\n",
    "    \n",
    "    else:\n",
    "        # parametros por defecto\n",
    "        return render_template('index.html',\n",
    "                               model_results = '',\n",
    "                               model_plot = '',\n",
    "                               s_age=30,\n",
    "                               s_fare=35,\n",
    "                               s_gender='Female',\n",
    "                               s_pclass='Second',\n",
    "                               s_title='Mrs')\n",
    "\n",
    "    \n",
    "\n",
    "# solo en local\n",
    "if __name__=='__main__':\n",
    "    app.run(debug=False)\n",
    "    "
   ]
  },
  {
   "cell_type": "code",
   "execution_count": null,
   "id": "1d49b0d2",
   "metadata": {},
   "outputs": [],
   "source": []
  },
  {
   "cell_type": "code",
   "execution_count": null,
   "id": "a149b65c",
   "metadata": {},
   "outputs": [],
   "source": []
  }
 ],
 "metadata": {
  "finalized": {
   "timestamp": 1645619419309,
   "trusted": true
  },
  "kernelspec": {
   "display_name": "clase",
   "language": "python",
   "name": "clase"
  },
  "language_info": {
   "codemirror_mode": {
    "name": "ipython",
    "version": 3
   },
   "file_extension": ".py",
   "mimetype": "text/x-python",
   "name": "python",
   "nbconvert_exporter": "python",
   "pygments_lexer": "ipython3",
   "version": "3.8.8"
  }
 },
 "nbformat": 4,
 "nbformat_minor": 5
}
